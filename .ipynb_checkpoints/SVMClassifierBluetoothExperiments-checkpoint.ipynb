{
 "cells": [
  {
   "cell_type": "markdown",
   "metadata": {},
   "source": [
    "# SVM Classifier using Bluetooth data"
   ]
  },
  {
   "cell_type": "markdown",
   "metadata": {},
   "source": [
    "<p>Jupyter Notebook which aims to explore the ML algorithm Support Vector Machine as a Classifier algorithm using the BLE technology moreover using the strength of the signal as a basis. </p>"
   ]
  },
  {
   "cell_type": "markdown",
   "metadata": {},
   "source": [
    "## Imports\n",
    "Imports of the libraries to be used throughout the experiments"
   ]
  },
  {
   "cell_type": "code",
   "execution_count": 1,
   "metadata": {},
   "outputs": [],
   "source": [
    "#CSV Related\n",
    "import pandas as pd\n",
    "import csv\n",
    "\n",
    "# Machine Learning\n",
    "import numpy as np\n",
    "from sklearn.svm import SVC\n",
    "from sklearn.metrics import classification_report, confusion_matrix, accuracy_score\n",
    "from sklearn.model_selection import train_test_split,KFold,StratifiedKFold\n",
    "from sklearn.model_selection import cross_val_score, cross_val_predict\n",
    "from sklearn.preprocessing import StandardScaler, MinMaxScaler, MaxAbsScaler\n",
    "from sklearn.pipeline import Pipeline\n",
    "from sklearn.model_selection import GridSearchCV\n",
    "from sklearn.model_selection import LeaveOneGroupOut\n",
    "from sklearn.pipeline import make_pipeline\n",
    "import sklearn\n",
    "import scipy\n",
    "\n",
    "#Graphical Display\n",
    "%matplotlib inline\n",
    "from IPython.display import display, HTML\n",
    "import matplotlib.pyplot as plt\n",
    "\n",
    "plt.style.use('seaborn-whitegrid')\n",
    "\n",
    "#Additional Helper Libraries\n",
    "from operator import itemgetter\n",
    "import re"
   ]
  },
  {
   "cell_type": "markdown",
   "metadata": {},
   "source": [
    "## Load File and Structure Data Function\n",
    "Function to load csv and structure data accordingly"
   ]
  },
  {
   "cell_type": "code",
   "execution_count": 2,
   "metadata": {},
   "outputs": [],
   "source": [
    "#Function that reads a csv file and structures the data accordingly\n",
    "def load_file(filename):\n",
    "    dataset = pd.read_csv(filename)\n",
    "    return dataset"
   ]
  },
  {
   "cell_type": "markdown",
   "metadata": {},
   "source": [
    "## Initialize Training Data"
   ]
  },
  {
   "cell_type": "code",
   "execution_count": 3,
   "metadata": {},
   "outputs": [],
   "source": [
    "def find_beacon_index():\n",
    "    first_beacon_index = -1\n",
    "    for ap in dataset.iloc[:,4:]:\n",
    "        if ap.islower() == False:\n",
    "            first_beacon_index = list(dataset).index(ap)\n",
    "            break\n",
    "    return first_beacon_index"
   ]
  },
  {
   "cell_type": "code",
   "execution_count": 4,
   "metadata": {},
   "outputs": [],
   "source": [
    "dataset = load_file('radiomapBluetoothWiFiclassifier.csv')\n",
    "beacon_index = find_beacon_index()\n",
    "X_train = dataset.iloc[:,beacon_index:]\n",
    "Y_train = dataset.iloc[:,3:4]"
   ]
  },
  {
   "cell_type": "markdown",
   "metadata": {},
   "source": [
    "## Beacons Graphical Display\n",
    "Graphical display with the average strength signal transmitted by each beacon"
   ]
  },
  {
   "cell_type": "code",
   "execution_count": 5,
   "metadata": {},
   "outputs": [
    {
     "data": {
      "text/plain": [
       "<BarContainer object of 2 artists>"
      ]
     },
     "execution_count": 5,
     "metadata": {},
     "output_type": "execute_result"
    },
    {
     "data": {
      "image/png": "[encoded data removed]",
      "text/plain": [
       "<Figure size 432x288 with 1 Axes>"
      ]
     },
     "metadata": {},
     "output_type": "display_data"
    }
   ],
   "source": [
    "count_beacons = {}\n",
    "counter = 1\n",
    "for beacon in X_train:\n",
    "    mean_value = dataset[beacon].mean()\n",
    "    count_beacons['beacon ' + str(counter)] = mean_value\n",
    "    counter = counter + 1\n",
    "plt.bar(range(len(count_beacons)),list(count_beacons.values()),align='center',tick_label=list(count_beacons.keys()))"
   ]
  },
  {
   "cell_type": "markdown",
   "metadata": {},
   "source": [
    "## Number of Fingerprints per Reference Point Graphical Display\n",
    "Graphical display of the number of fingerprints retrieved at each reference point"
   ]
  },
  {
   "cell_type": "code",
   "execution_count": 6,
   "metadata": {},
   "outputs": [
    {
     "data": {
      "text/plain": [
       "<matplotlib.axes._subplots.AxesSubplot at 0x28bbe527f48>"
      ]
     },
     "execution_count": 6,
     "metadata": {},
     "output_type": "execute_result"
    },
    {
     "data": {
      "image/png": "[encoded data removed]",
      "text/plain": [
       "<Figure size 432x288 with 1 Axes>"
      ]
     },
     "metadata": {},
     "output_type": "display_data"
    }
   ],
   "source": [
    "reference_points = dataset.groupby(['zone'])\n",
    "reference_points.size().plot(kind=\"bar\")"
   ]
  },
  {
   "cell_type": "markdown",
   "metadata": {},
   "source": [
    "## Signal Strength Distribution Display\n",
    "Graphical display of the distribution of the signal strength"
   ]
  },
  {
   "cell_type": "markdown",
   "metadata": {},
   "source": [
    "### Bluetooth Signal Strength"
   ]
  },
  {
   "cell_type": "code",
   "execution_count": 7,
   "metadata": {},
   "outputs": [
    {
     "data": {
      "text/plain": [
       "Text(0, 0.5, 'Probability')"
      ]
     },
     "execution_count": 7,
     "metadata": {},
     "output_type": "execute_result"
    },
    {
     "data": {
      "image/png": "[encoded data removed]",
      "text/plain": [
       "<Figure size 432x288 with 1 Axes>"
      ]
     },
     "metadata": {},
     "output_type": "display_data"
    }
   ],
   "source": [
    "flatten_results = X_train.values.flatten().tolist()\n",
    "flatten_results = list(filter((0).__ne__,flatten_results))\n",
    "plt.hist(flatten_results,density=True)\n",
    "plt.xlabel('RSSI')\n",
    "plt.ylabel('Probability')"
   ]
  },
  {
   "cell_type": "markdown",
   "metadata": {},
   "source": [
    "## Initialize SVM Parameters arrays\n",
    "Initialization of the arrays with the different possible values for the parameters of SVM Classifier function"
   ]
  },
  {
   "cell_type": "code",
   "execution_count": 8,
   "metadata": {},
   "outputs": [],
   "source": [
    "#SVM Configurable Arrays\n",
    "C_parameter_list = [0.25,0.5,1.0,10.0,100.0,1000.0] \n",
    "kernel_list = (\"linear\",\"poly\",\"rbf\",\"sigmoid\")\n",
    "filters_list = [\"Median\",\"Mean\",\"No Filter\"]\n",
    "gamma_list = [10,100,\"scale\",\"auto\"]\n",
    "scaler_list = [StandardScaler(),MinMaxScaler(),MaxAbsScaler(),None]\n",
    "class_weights_list = [\"balanced\",None]\n",
    "decision_function_shape_list = [\"ovo\",\"ovr\"]\n",
    "default_data_scenario = Y_train.copy()\n",
    "default_data_scenario_groups = default_data_scenario[\"zone\"].map(str)\n",
    "nan_filler = X_train.min().min()*1.010\n",
    "X_train = X_train.replace(0, np.nan)\n",
    "X_train = X_train.fillna(nan_filler)"
   ]
  },
  {
   "cell_type": "markdown",
   "metadata": {},
   "source": [
    "## Statistics Output Format\n",
    "Structure of the statistical output of each call to the SVM Classification Function"
   ]
  },
  {
   "cell_type": "code",
   "execution_count": 9,
   "metadata": {},
   "outputs": [],
   "source": [
    "def structure_data(data,precision,accuracy,f1score):\n",
    "    mae = data['error'].abs().mean()\n",
    "    mse = np.power(data['error'],2).mean()\n",
    "    rsme = np.sqrt(mse)\n",
    "    precision = precision\n",
    "    accuracy = accuracy\n",
    "    f1score = f1score\n",
    "    statistical_results = [mae,mse,rsme,precision,accuracy,f1score]\n",
    "    return statistical_results"
   ]
  },
  {
   "cell_type": "markdown",
   "metadata": {},
   "source": [
    "## Configurable SVM Classifier Function "
   ]
  },
  {
   "cell_type": "code",
   "execution_count": 10,
   "metadata": {},
   "outputs": [],
   "source": [
    "def compute_SVM_with_Classifier(flag = 1,trainX_data = None,trainY_data = None,testX_data = None,testY_data = None,scaler = StandardScaler(),\n",
    "                                cross_validation = None,C_parameter = 1.0, kernel_parameter='rbf', gamma_parameter=\"scale\", \n",
    "                                class_weigth_parameter=None, decision_function_shape_parameter='ovr'):\n",
    "    # Init the SVM\n",
    "    svm_classifier_estimator = SVC(C=C_parameter,kernel=kernel_parameter,gamma=gamma_parameter,class_weight=class_weigth_parameter,\n",
    "                                  decision_function_shape=decision_function_shape_parameter,random_state = 6)\n",
    "    if scaler is not None:\n",
    "        # Make pipeline using scaler transformation\n",
    "        main_estimator = make_pipeline(scaler,svm_classifier_estimator)\n",
    "    else:\n",
    "        main_estimator = svm_classifier_estimator\n",
    "    if cross_validation is None:\n",
    "        # Fit the training data\n",
    "        main_estimator.fit(trainX_data,trainY_data.values.ravel())\n",
    "        # Predict the results of the testing data features\n",
    "        predict_test = main_estimator.predict(testX_data)\n",
    "        matrix = confusion_matrix(testY_data, predict_test)\n",
    "        report = classification_report(testY_data, predict_test,output_dict=True)\n",
    "        accuracy = accuracy_score(testY_data,predict_test)\n",
    "    else:\n",
    "        predict_test = cross_val_predict(main_estimator,testX_data.values,testY_data.values.ravel(),cv = cross_validation,groups=default_data_scenario_groups)\n",
    "        matrix = confusion_matrix(testY_data, predict_test)\n",
    "        report = classification_report(testY_data, predict_test,output_dict=True)\n",
    "        accuracy = accuracy_score(testY_data,predict_test)\n",
    "    # Structure data to statistics\n",
    "    statistics = pd.DataFrame(report).transpose()\n",
    "    statistical_array = list()\n",
    "    coord_cols = ['zone']\n",
    "    predictions = pd.DataFrame(predict_test,columns=coord_cols)\n",
    "    result = testY_data.join(predictions, rsuffix=\"_predicted\")\n",
    "    error = pd.DataFrame(np.where(predictions[coord_cols] != result[coord_cols],1,0), columns=[\"error\"])\n",
    "    result = pd.concat([result,error], axis = 1)\n",
    "    if flag == 0:\n",
    "        print(\"Confusion Matrix:\")\n",
    "        print(matrix)\n",
    "        display(statistics)\n",
    "        display(result)\n",
    "    return structure_data(result,statistics['precision'].mean(),accuracy,statistics['f1-score'].mean())"
   ]
  },
  {
   "cell_type": "markdown",
   "metadata": {},
   "source": [
    "## Experiments"
   ]
  },
  {
   "cell_type": "markdown",
   "metadata": {},
   "source": [
    "### 1st Experiment - Running SVM function with default parameters and testing data equal to training data"
   ]
  },
  {
   "cell_type": "code",
   "execution_count": 11,
   "metadata": {},
   "outputs": [
    {
     "name": "stdout",
     "output_type": "stream",
     "text": [
      "Confusion Matrix:\n",
      "[[25  1  1  3]\n",
      " [ 0 28  0  2]\n",
      " [ 1  0 20  9]\n",
      " [11  2  0 17]]\n"
     ]
    },
    {
     "data": {
      "text/html": [
       "<div>\n",
       "<style scoped>\n",
       "    .dataframe tbody tr th:only-of-type {\n",
       "        vertical-align: middle;\n",
       "    }\n",
       "\n",
       "    .dataframe tbody tr th {\n",
       "        vertical-align: top;\n",
       "    }\n",
       "\n",
       "    .dataframe thead th {\n",
       "        text-align: right;\n",
       "    }\n",
       "</style>\n",
       "<table border=\"1\" class=\"dataframe\">\n",
       "  <thead>\n",
       "    <tr style=\"text-align: right;\">\n",
       "      <th></th>\n",
       "      <th>precision</th>\n",
       "      <th>recall</th>\n",
       "      <th>f1-score</th>\n",
       "      <th>support</th>\n",
       "    </tr>\n",
       "  </thead>\n",
       "  <tbody>\n",
       "    <tr>\n",
       "      <th>Bathroom</th>\n",
       "      <td>0.675676</td>\n",
       "      <td>0.833333</td>\n",
       "      <td>0.746269</td>\n",
       "      <td>30.00</td>\n",
       "    </tr>\n",
       "    <tr>\n",
       "      <th>Bedroom</th>\n",
       "      <td>0.903226</td>\n",
       "      <td>0.933333</td>\n",
       "      <td>0.918033</td>\n",
       "      <td>30.00</td>\n",
       "    </tr>\n",
       "    <tr>\n",
       "      <th>Kitchen</th>\n",
       "      <td>0.952381</td>\n",
       "      <td>0.666667</td>\n",
       "      <td>0.784314</td>\n",
       "      <td>30.00</td>\n",
       "    </tr>\n",
       "    <tr>\n",
       "      <th>Living Room</th>\n",
       "      <td>0.548387</td>\n",
       "      <td>0.566667</td>\n",
       "      <td>0.557377</td>\n",
       "      <td>30.00</td>\n",
       "    </tr>\n",
       "    <tr>\n",
       "      <th>accuracy</th>\n",
       "      <td>0.750000</td>\n",
       "      <td>0.750000</td>\n",
       "      <td>0.750000</td>\n",
       "      <td>0.75</td>\n",
       "    </tr>\n",
       "    <tr>\n",
       "      <th>macro avg</th>\n",
       "      <td>0.769917</td>\n",
       "      <td>0.750000</td>\n",
       "      <td>0.751498</td>\n",
       "      <td>120.00</td>\n",
       "    </tr>\n",
       "    <tr>\n",
       "      <th>weighted avg</th>\n",
       "      <td>0.769917</td>\n",
       "      <td>0.750000</td>\n",
       "      <td>0.751498</td>\n",
       "      <td>120.00</td>\n",
       "    </tr>\n",
       "  </tbody>\n",
       "</table>\n",
       "</div>"
      ],
      "text/plain": [
       "              precision    recall  f1-score  support\n",
       "Bathroom       0.675676  0.833333  0.746269    30.00\n",
       "Bedroom        0.903226  0.933333  0.918033    30.00\n",
       "Kitchen        0.952381  0.666667  0.784314    30.00\n",
       "Living Room    0.548387  0.566667  0.557377    30.00\n",
       "accuracy       0.750000  0.750000  0.750000     0.75\n",
       "macro avg      0.769917  0.750000  0.751498   120.00\n",
       "weighted avg   0.769917  0.750000  0.751498   120.00"
      ]
     },
     "metadata": {},
     "output_type": "display_data"
    },
    {
     "data": {
      "text/html": [
       "<div>\n",
       "<style scoped>\n",
       "    .dataframe tbody tr th:only-of-type {\n",
       "        vertical-align: middle;\n",
       "    }\n",
       "\n",
       "    .dataframe tbody tr th {\n",
       "        vertical-align: top;\n",
       "    }\n",
       "\n",
       "    .dataframe thead th {\n",
       "        text-align: right;\n",
       "    }\n",
       "</style>\n",
       "<table border=\"1\" class=\"dataframe\">\n",
       "  <thead>\n",
       "    <tr style=\"text-align: right;\">\n",
       "      <th></th>\n",
       "      <th>zone</th>\n",
       "      <th>zone_predicted</th>\n",
       "      <th>error</th>\n",
       "    </tr>\n",
       "  </thead>\n",
       "  <tbody>\n",
       "    <tr>\n",
       "      <th>0</th>\n",
       "      <td>Kitchen</td>\n",
       "      <td>Living Room</td>\n",
       "      <td>1</td>\n",
       "    </tr>\n",
       "    <tr>\n",
       "      <th>1</th>\n",
       "      <td>Kitchen</td>\n",
       "      <td>Living Room</td>\n",
       "      <td>1</td>\n",
       "    </tr>\n",
       "    <tr>\n",
       "      <th>2</th>\n",
       "      <td>Kitchen</td>\n",
       "      <td>Living Room</td>\n",
       "      <td>1</td>\n",
       "    </tr>\n",
       "    <tr>\n",
       "      <th>3</th>\n",
       "      <td>Kitchen</td>\n",
       "      <td>Living Room</td>\n",
       "      <td>1</td>\n",
       "    </tr>\n",
       "    <tr>\n",
       "      <th>4</th>\n",
       "      <td>Kitchen</td>\n",
       "      <td>Living Room</td>\n",
       "      <td>1</td>\n",
       "    </tr>\n",
       "    <tr>\n",
       "      <th>...</th>\n",
       "      <td>...</td>\n",
       "      <td>...</td>\n",
       "      <td>...</td>\n",
       "    </tr>\n",
       "    <tr>\n",
       "      <th>115</th>\n",
       "      <td>Bathroom</td>\n",
       "      <td>Bathroom</td>\n",
       "      <td>0</td>\n",
       "    </tr>\n",
       "    <tr>\n",
       "      <th>116</th>\n",
       "      <td>Bathroom</td>\n",
       "      <td>Bathroom</td>\n",
       "      <td>0</td>\n",
       "    </tr>\n",
       "    <tr>\n",
       "      <th>117</th>\n",
       "      <td>Bathroom</td>\n",
       "      <td>Living Room</td>\n",
       "      <td>1</td>\n",
       "    </tr>\n",
       "    <tr>\n",
       "      <th>118</th>\n",
       "      <td>Bathroom</td>\n",
       "      <td>Bathroom</td>\n",
       "      <td>0</td>\n",
       "    </tr>\n",
       "    <tr>\n",
       "      <th>119</th>\n",
       "      <td>Bathroom</td>\n",
       "      <td>Bathroom</td>\n",
       "      <td>0</td>\n",
       "    </tr>\n",
       "  </tbody>\n",
       "</table>\n",
       "<p>120 rows × 3 columns</p>\n",
       "</div>"
      ],
      "text/plain": [
       "         zone zone_predicted  error\n",
       "0     Kitchen    Living Room      1\n",
       "1     Kitchen    Living Room      1\n",
       "2     Kitchen    Living Room      1\n",
       "3     Kitchen    Living Room      1\n",
       "4     Kitchen    Living Room      1\n",
       "..        ...            ...    ...\n",
       "115  Bathroom       Bathroom      0\n",
       "116  Bathroom       Bathroom      0\n",
       "117  Bathroom    Living Room      1\n",
       "118  Bathroom       Bathroom      0\n",
       "119  Bathroom       Bathroom      0\n",
       "\n",
       "[120 rows x 3 columns]"
      ]
     },
     "metadata": {},
     "output_type": "display_data"
    },
    {
     "name": "stdout",
     "output_type": "stream",
     "text": [
      "X TRAIN\n"
     ]
    },
    {
     "data": {
      "text/html": [
       "<div>\n",
       "<style scoped>\n",
       "    .dataframe tbody tr th:only-of-type {\n",
       "        vertical-align: middle;\n",
       "    }\n",
       "\n",
       "    .dataframe tbody tr th {\n",
       "        vertical-align: top;\n",
       "    }\n",
       "\n",
       "    .dataframe thead th {\n",
       "        text-align: right;\n",
       "    }\n",
       "</style>\n",
       "<table border=\"1\" class=\"dataframe\">\n",
       "  <thead>\n",
       "    <tr style=\"text-align: right;\">\n",
       "      <th></th>\n",
       "      <th>FF:20:88:3C:97:E7</th>\n",
       "      <th>CA:E0:7D:11:26:B3</th>\n",
       "    </tr>\n",
       "  </thead>\n",
       "  <tbody>\n",
       "    <tr>\n",
       "      <th>0</th>\n",
       "      <td>-81.00</td>\n",
       "      <td>-78.0</td>\n",
       "    </tr>\n",
       "    <tr>\n",
       "      <th>1</th>\n",
       "      <td>-83.00</td>\n",
       "      <td>-78.0</td>\n",
       "    </tr>\n",
       "    <tr>\n",
       "      <th>2</th>\n",
       "      <td>-84.00</td>\n",
       "      <td>-78.0</td>\n",
       "    </tr>\n",
       "    <tr>\n",
       "      <th>3</th>\n",
       "      <td>-83.00</td>\n",
       "      <td>-77.0</td>\n",
       "    </tr>\n",
       "    <tr>\n",
       "      <th>4</th>\n",
       "      <td>-81.00</td>\n",
       "      <td>-78.0</td>\n",
       "    </tr>\n",
       "    <tr>\n",
       "      <th>...</th>\n",
       "      <td>...</td>\n",
       "      <td>...</td>\n",
       "    </tr>\n",
       "    <tr>\n",
       "      <th>115</th>\n",
       "      <td>-78.00</td>\n",
       "      <td>-76.0</td>\n",
       "    </tr>\n",
       "    <tr>\n",
       "      <th>116</th>\n",
       "      <td>-99.99</td>\n",
       "      <td>-70.0</td>\n",
       "    </tr>\n",
       "    <tr>\n",
       "      <th>117</th>\n",
       "      <td>-82.00</td>\n",
       "      <td>-76.0</td>\n",
       "    </tr>\n",
       "    <tr>\n",
       "      <th>118</th>\n",
       "      <td>-76.00</td>\n",
       "      <td>-71.0</td>\n",
       "    </tr>\n",
       "    <tr>\n",
       "      <th>119</th>\n",
       "      <td>-76.00</td>\n",
       "      <td>-76.0</td>\n",
       "    </tr>\n",
       "  </tbody>\n",
       "</table>\n",
       "<p>120 rows × 2 columns</p>\n",
       "</div>"
      ],
      "text/plain": [
       "     FF:20:88:3C:97:E7  CA:E0:7D:11:26:B3\n",
       "0               -81.00              -78.0\n",
       "1               -83.00              -78.0\n",
       "2               -84.00              -78.0\n",
       "3               -83.00              -77.0\n",
       "4               -81.00              -78.0\n",
       "..                 ...                ...\n",
       "115             -78.00              -76.0\n",
       "116             -99.99              -70.0\n",
       "117             -82.00              -76.0\n",
       "118             -76.00              -71.0\n",
       "119             -76.00              -76.0\n",
       "\n",
       "[120 rows x 2 columns]"
      ]
     },
     "metadata": {},
     "output_type": "display_data"
    },
    {
     "name": "stdout",
     "output_type": "stream",
     "text": [
      "Y TRAIN\n"
     ]
    },
    {
     "data": {
      "text/html": [
       "<div>\n",
       "<style scoped>\n",
       "    .dataframe tbody tr th:only-of-type {\n",
       "        vertical-align: middle;\n",
       "    }\n",
       "\n",
       "    .dataframe tbody tr th {\n",
       "        vertical-align: top;\n",
       "    }\n",
       "\n",
       "    .dataframe thead th {\n",
       "        text-align: right;\n",
       "    }\n",
       "</style>\n",
       "<table border=\"1\" class=\"dataframe\">\n",
       "  <thead>\n",
       "    <tr style=\"text-align: right;\">\n",
       "      <th></th>\n",
       "      <th>zone</th>\n",
       "    </tr>\n",
       "  </thead>\n",
       "  <tbody>\n",
       "    <tr>\n",
       "      <th>0</th>\n",
       "      <td>Kitchen</td>\n",
       "    </tr>\n",
       "    <tr>\n",
       "      <th>1</th>\n",
       "      <td>Kitchen</td>\n",
       "    </tr>\n",
       "    <tr>\n",
       "      <th>2</th>\n",
       "      <td>Kitchen</td>\n",
       "    </tr>\n",
       "    <tr>\n",
       "      <th>3</th>\n",
       "      <td>Kitchen</td>\n",
       "    </tr>\n",
       "    <tr>\n",
       "      <th>4</th>\n",
       "      <td>Kitchen</td>\n",
       "    </tr>\n",
       "    <tr>\n",
       "      <th>...</th>\n",
       "      <td>...</td>\n",
       "    </tr>\n",
       "    <tr>\n",
       "      <th>115</th>\n",
       "      <td>Bathroom</td>\n",
       "    </tr>\n",
       "    <tr>\n",
       "      <th>116</th>\n",
       "      <td>Bathroom</td>\n",
       "    </tr>\n",
       "    <tr>\n",
       "      <th>117</th>\n",
       "      <td>Bathroom</td>\n",
       "    </tr>\n",
       "    <tr>\n",
       "      <th>118</th>\n",
       "      <td>Bathroom</td>\n",
       "    </tr>\n",
       "    <tr>\n",
       "      <th>119</th>\n",
       "      <td>Bathroom</td>\n",
       "    </tr>\n",
       "  </tbody>\n",
       "</table>\n",
       "<p>120 rows × 1 columns</p>\n",
       "</div>"
      ],
      "text/plain": [
       "         zone\n",
       "0     Kitchen\n",
       "1     Kitchen\n",
       "2     Kitchen\n",
       "3     Kitchen\n",
       "4     Kitchen\n",
       "..        ...\n",
       "115  Bathroom\n",
       "116  Bathroom\n",
       "117  Bathroom\n",
       "118  Bathroom\n",
       "119  Bathroom\n",
       "\n",
       "[120 rows x 1 columns]"
      ]
     },
     "metadata": {},
     "output_type": "display_data"
    },
    {
     "data": {
      "text/html": [
       "<div>\n",
       "<style scoped>\n",
       "    .dataframe tbody tr th:only-of-type {\n",
       "        vertical-align: middle;\n",
       "    }\n",
       "\n",
       "    .dataframe tbody tr th {\n",
       "        vertical-align: top;\n",
       "    }\n",
       "\n",
       "    .dataframe thead th {\n",
       "        text-align: right;\n",
       "    }\n",
       "</style>\n",
       "<table border=\"1\" class=\"dataframe\">\n",
       "  <thead>\n",
       "    <tr style=\"text-align: right;\">\n",
       "      <th></th>\n",
       "      <th>mae</th>\n",
       "      <th>mse</th>\n",
       "      <th>rmse</th>\n",
       "      <th>precision</th>\n",
       "      <th>accuracy</th>\n",
       "      <th>f1-score</th>\n",
       "    </tr>\n",
       "  </thead>\n",
       "  <tbody>\n",
       "    <tr>\n",
       "      <th>0</th>\n",
       "      <td>0.25</td>\n",
       "      <td>0.25</td>\n",
       "      <td>0.5</td>\n",
       "      <td>0.767072</td>\n",
       "      <td>0.75</td>\n",
       "      <td>0.751284</td>\n",
       "    </tr>\n",
       "  </tbody>\n",
       "</table>\n",
       "</div>"
      ],
      "text/plain": [
       "    mae   mse  rmse  precision  accuracy  f1-score\n",
       "0  0.25  0.25   0.5   0.767072      0.75  0.751284"
      ]
     },
     "metadata": {},
     "output_type": "display_data"
    }
   ],
   "source": [
    "statistical_cols = ['mae','mse','rmse','precision','accuracy','f1-score']\n",
    "result = compute_SVM_with_Classifier(flag=0,trainX_data=X_train,trainY_data=Y_train,testX_data=X_train,testY_data=Y_train,scaler=StandardScaler())\n",
    "statistical_results = [result]\n",
    "statistics = pd.DataFrame(columns=statistical_cols,data=statistical_results)\n",
    "display(statistics)"
   ]
  },
  {
   "cell_type": "markdown",
   "metadata": {},
   "source": [
    "### 2nd Experiment - Tunning parameters with GridSearchCV"
   ]
  },
  {
   "cell_type": "code",
   "execution_count": 12,
   "metadata": {},
   "outputs": [],
   "source": [
    "def tune_parameters(X_train):\n",
    "    statistical_cols = ['mae','mse','rmse','precision','accuracy','f1-score']\n",
    "    results = list()\n",
    "    for param in C_parameter_list:\n",
    "        for gamma in gamma_list:\n",
    "            for kernel in kernel_list:\n",
    "                result = compute_SVM_with_Classifier(trainX_data=X_train,trainY_data=Y_train,testX_data=X_train,testY_data=Y_train,\n",
    "                                                     C_parameter=param,gamma_parameter=gamma,kernel_parameter=kernel)\n",
    "                results.append(result)\n",
    "    statistics = pd.DataFrame(columns=statistical_cols,data=results)\n",
    "    display(statistics.sort_values(by=['mae']))\n",
    "        "
   ]
  },
  {
   "cell_type": "code",
   "execution_count": null,
   "metadata": {},
   "outputs": [],
   "source": [
    "tune_parameters(X_train)"
   ]
  },
  {
   "cell_type": "markdown",
   "metadata": {},
   "source": [
    "### 3th Experiment - Running the SVM function with default parameters and Hold-out Cross Validation"
   ]
  },
  {
   "cell_type": "code",
   "execution_count": null,
   "metadata": {},
   "outputs": [],
   "source": [
    "statistical_cols = ['mae','mse','rmse','precision','accuracy','f1-score']\n",
    "test_sizes =[0.1,0.2,0.3,0.4,0.5,0.6,0.7,0.8,0.9]\n",
    "results = list()\n",
    "for size in test_sizes:\n",
    "    X_train_split, X_test_split, y_train_split, y_test_split = train_test_split(X_train,Y_train, test_size = size, random_state = 6,stratify=default_data_scenario_groups)\n",
    "    X_train_split = X_train_split.reset_index(drop=True)\n",
    "    X_test_split = X_test_split.reset_index(drop=True)\n",
    "    y_train_split = y_train_split.reset_index(drop=True)\n",
    "    y_test_split = y_test_split.reset_index(drop=True)\n",
    "    result = compute_SVM_with_Classifier(trainX_data=X_train_split,trainY_data=y_train_split,testX_data=X_test_split,testY_data=y_test_split,scaler=StandardScaler())\n",
    "    result.append(size)\n",
    "    results.append(result)\n",
    "statistical_cols.append('test_size')\n",
    "statistics = pd.DataFrame(columns=statistical_cols,data=results)\n",
    "display(statistics.sort_values(by=['mae'],))\n",
    "plt.plot(statistics['test_size'],statistics['mae'])"
   ]
  },
  {
   "cell_type": "markdown",
   "metadata": {},
   "source": [
    "### 4th Experiment -  Running the SVM function with default parameters and Stratified K-Fold cross validation"
   ]
  },
  {
   "cell_type": "code",
   "execution_count": null,
   "metadata": {},
   "outputs": [],
   "source": [
    "statistical_cols = ['mae','mse','rmse','precision','accuracy','f1-score']\n",
    "cross_validation_list = np.arange(2,11)\n",
    "results = list()\n",
    "for cv in cross_validation_list:\n",
    "    result = compute_SVM_with_Classifier(testX_data=X_train,testY_data=Y_train,scaler=StandardScaler(),cross_validation = cv)  \n",
    "    result.append(cv)\n",
    "    results.append(result)\n",
    "statistical_cols.append('folds')\n",
    "statistics = pd.DataFrame(columns=statistical_cols,data=results)\n",
    "display(statistics.sort_values(by=['mae']))\n",
    "plt.plot(statistics['folds'],statistics['mae'])\n",
    "selected_fold = statistics.sort_values(by=['mae'])['folds'].head(1).values[0]\n",
    "print(\"Number of Folds: \",selected_fold)"
   ]
  },
  {
   "cell_type": "markdown",
   "metadata": {},
   "source": [
    "### 6th Experiment -  Running the SVM function with default parameters and Leave One Group Out cross validation"
   ]
  },
  {
   "cell_type": "code",
   "execution_count": null,
   "metadata": {},
   "outputs": [],
   "source": [
    "statistical_cols = ['mae','mse','rmse','precision','accuracy','f1-score']\n",
    "results = list()\n",
    "cv = LeaveOneGroupOut()\n",
    "splited = cv.split(X_train,default_data_scenario_groups,groups=default_data_scenario_groups)\n",
    "loo = compute_SVM_with_Classifier(testX_data=X_train,testY_data=Y_train,scaler=StandardScaler(),cross_validation = splited)  \n",
    "results.append(loo)\n",
    "statistics = pd.DataFrame(columns=statistical_cols,data=results)\n",
    "display(statistics.sort_values(by=['mae']))"
   ]
  },
  {
   "cell_type": "markdown",
   "metadata": {},
   "source": [
    "### 7TH Experiment - Compare cross validation methods"
   ]
  },
  {
   "cell_type": "code",
   "execution_count": null,
   "metadata": {},
   "outputs": [],
   "source": [
    "statistical_cols = ['mae','mse','rmse','precision','accuracy','f1-score','method']\n",
    "results = list()\n",
    "X_train_split, X_test_split, y_train_split, y_test_split = train_test_split(X_train,Y_train, test_size = size, random_state = 6,stratify=default_data_scenario_groups)\n",
    "X_train_split = X_train_split.reset_index(drop=True)\n",
    "X_test_split = X_test_split.reset_index(drop=True)\n",
    "y_train_split = y_train_split.reset_index(drop=True)\n",
    "y_test_split = y_test_split.reset_index(drop=True)\n",
    "holdout = compute_SVM_with_Classifier(trainX_data=X_train_split,trainY_data=y_train_split,testX_data=X_test_split,testY_data=y_test_split,scaler=StandardScaler())\n",
    "loo.append('LOO')\n",
    "results.append(loo)\n",
    "holdout.append('HoldOut')\n",
    "results.append(holdout)\n",
    "skfold = compute_SVM_with_Classifier(testX_data=X_train,testY_data=Y_train,scaler=StandardScaler(),cross_validation = selected_fold)\n",
    "skfold.append('Stratified K-Fold')\n",
    "results.append(skfold)\n",
    "statistics = pd.DataFrame(columns=statistical_cols,data=results)\n",
    "display(statistics.sort_values(by=['mae']))\n",
    "plt.plot(statistics['method'],statistics['mae'])\n",
    "selected_method = statistics.sort_values(by=['mae'])['method'].head(1).values[0]\n",
    "print(\"Selected cross validation method: \",selected_method)"
   ]
  },
  {
   "cell_type": "markdown",
   "metadata": {},
   "source": [
    "### 8th Experiment - Running the SVM function with the different C parameter values"
   ]
  },
  {
   "cell_type": "code",
   "execution_count": null,
   "metadata": {},
   "outputs": [],
   "source": [
    "statistical_cols =['mae','mse','rmse','precision','accuracy','f1-score','C_parameter']\n",
    "results = list()\n",
    "for c_param in C_parameter_list:\n",
    "    if selected_method == 'LOO':\n",
    "        cv = LeaveOneGroupOut()\n",
    "        splited = cv.split(X_train,Y_train,groups=default_data_scenario_groups)\n",
    "        result = compute_SVM_with_Classifier(testX_data=X_train,testY_data=Y_train,scaler=StandardScaler(),cross_validation = splited,\n",
    "                                           C_parameter = c_param)  \n",
    "    elif selected_method =='Stratified K-Fold':\n",
    "        result = compute_SVM_with_Classifier(testX_data=X_train,testY_data=Y_train,scaler=StandardScaler(),\n",
    "                                             cross_validation = selected_fold, C_parameter = c_param) \n",
    "    else:\n",
    "        result = compute_SVM_with_Classifier(trainX_data=X_train_split,trainY_data=Y_train_split,testX_data=X_test_split,testY_data=Y_test_split,scaler=StandardScaler(),\n",
    "                                            C_parameter = c_param) \n",
    "    result.append(c_param)\n",
    "    results.append(result)\n",
    "statistics = pd.DataFrame(columns=statistical_cols,data=results)\n",
    "display(statistics.sort_values(by=['mae']))\n",
    "plt.plot(statistics['C_parameter'],statistics['mae'])\n",
    "selected_c_parameter = statistics.sort_values(by=['mae'])['C_parameter'].head(1).values[0]\n",
    "print(\"Selected C Parameter: \",selected_c_parameter)"
   ]
  },
  {
   "cell_type": "markdown",
   "metadata": {},
   "source": [
    "### 9th Experiment - Running the SVM function with the different preprocessing methods"
   ]
  },
  {
   "cell_type": "code",
   "execution_count": null,
   "metadata": {},
   "outputs": [],
   "source": [
    "statistical_cols = ['mae','mse','rmse','precision','accuracy','f1-score','preprocessing','preprocessingFunc']\n",
    "results = list()\n",
    "for preprocess in scaler_list:\n",
    "    if selected_method == 'LOO':\n",
    "        cv = LeaveOneGroupOut()\n",
    "        splited = cv.split(X_train,Y_train,groups=default_data_scenario_groups)\n",
    "        result = compute_SVM_with_Classifier(testX_data=X_train,testY_data=Y_train,scaler=preprocess,cross_validation = splited)  \n",
    "    elif selected_method =='Stratified K-Fold':\n",
    "        result = compute_SVM_with_Classifier(testX_data=X_train,testY_data=Y_train,scaler=preprocess,cross_validation = selected_fold)\n",
    "    else:\n",
    "        result = compute_SVM_with_Classifier(trainX_data=X_train_split,trainY_data=Y_train_split,testX_data=X_test_split,testY_data=Y_test_split,scaler=preprocess)\n",
    "    if(preprocess is None):\n",
    "        regex = 'None'\n",
    "    else:\n",
    "        regex = re.search('(\\w+)\\(',str(preprocess)).group(1)\n",
    "    result.append(regex)\n",
    "    result.append(preprocess)\n",
    "    results.append(result)\n",
    "statistics = pd.DataFrame(columns=statistical_cols,data=results)\n",
    "display(statistics.sort_values(by=['mae']))\n",
    "plt.plot(statistics['preprocessing'],statistics['mae'])\n",
    "selected_preprocessing = statistics.sort_values(by=['mae'])['preprocessing'].head(1).values[0]\n",
    "selected_preprocesssing_func = statistics.sort_values(by=['mae'])['preprocessingFunc'].head(1).values[0]\n",
    "print(\"Selected Preprocessing: \",selected_preprocessing)"
   ]
  },
  {
   "cell_type": "markdown",
   "metadata": {},
   "source": [
    "### 10th Experiment - Running the SVM function with the different kernels"
   ]
  },
  {
   "cell_type": "code",
   "execution_count": null,
   "metadata": {},
   "outputs": [],
   "source": [
    "statistical_cols = ['mae','mse','rmse','precision','accuracy','f1-score','kernel']\n",
    "results = list()\n",
    "for kernel in kernel_list:\n",
    "    if selected_method == 'LOO':\n",
    "        cv = LeaveOneGroupOut()\n",
    "        splited = cv.split(X_train,Y_train,groups=default_data_scenario_groups)\n",
    "        result = compute_SVM_with_Classifier(testX_data=X_train,testY_data=Y_train,scaler=StandardScaler(),cross_validation = splited,\n",
    "                                            kernel_parameter = kernel)  \n",
    "    elif selected_method =='Stratified K-Fold':\n",
    "        result = compute_SVM_with_Classifier(testX_data=X_train,testY_data=Y_train,scaler=StandardScaler(),cross_validation = selected_fold,\n",
    "                                            kernel_parameter = kernel)\n",
    "    else:\n",
    "        result = compute_SVM_with_Classifier(trainX_data=X_train_split,trainY_data=Y_train_split,testX_data=X_test_split,testY_data=Y_test_split,scaler=StandardScaler(),\n",
    "                                            kernel_parameter = kernel)\n",
    "    result.append(kernel)\n",
    "    results.append(result)\n",
    "statistics = pd.DataFrame(columns=statistical_cols,data=results)\n",
    "display(statistics.sort_values(by=['mae']))\n",
    "plt.plot(statistics['kernel'],statistics['mae'])\n",
    "selected_kernel = statistics.sort_values(by=['mae'])['kernel'].head(1).values[0]\n",
    "print(\"Selected Kernel: \",selected_kernel)"
   ]
  },
  {
   "cell_type": "markdown",
   "metadata": {},
   "source": [
    "### 11th Experiment - Running the SVM function with the different gamma metrics"
   ]
  },
  {
   "cell_type": "code",
   "execution_count": null,
   "metadata": {},
   "outputs": [],
   "source": [
    "statistical_cols = ['mae','mse','rmse','precision','accuracy','f1-score','gamma','gammaStr']\n",
    "results = list()\n",
    "for gamma in gamma_list:\n",
    "    if selected_method == 'LOO':\n",
    "        cv = LeaveOneGroupOut()\n",
    "        splited = cv.split(X_train,Y_train,groups=default_data_scenario_groups)\n",
    "        result = compute_SVM_with_Classifier(testX_data=X_train,testY_data=Y_train,scaler=StandardScaler(),cross_validation = splited,\n",
    "                                            gamma_parameter= gamma)  \n",
    "    elif selected_method =='Stratified K-Fold':\n",
    "        result = compute_SVM_with_Classifier(testX_data=X_train,testY_data=Y_train,scaler=StandardScaler(),cross_validation = selected_fold,\n",
    "                                            gamma_parameter= gamma)\n",
    "    else:\n",
    "        result = compute_SVM_with_Classifier(trainX_data=X_train_split,trainY_data=Y_train_split,testX_data=X_test_split,testY_data=Y_test_split,scaler=StandardScaler(),\n",
    "                                            gamma_parameter= gamma)\n",
    "    result.append(gamma)\n",
    "    result.append(str(gamma))\n",
    "    results.append(result)\n",
    "statistics = pd.DataFrame(columns=statistical_cols,data=results)\n",
    "display(statistics.sort_values(by=['mae']))\n",
    "plt.plot(statistics['gammaStr'],statistics['mae'])\n",
    "selected_gamma_metric = statistics.sort_values(by=['mae'])['gamma'].head(1).values[0]\n",
    "print(\"Selected Gamma: \",selected_gamma_metric)"
   ]
  },
  {
   "cell_type": "markdown",
   "metadata": {},
   "source": [
    "### 12th Experiment:  Running the SVM function with the different weights metrics"
   ]
  },
  {
   "cell_type": "code",
   "execution_count": null,
   "metadata": {},
   "outputs": [],
   "source": [
    "statistical_cols = ['mae','mse','rmse','precision','accuracy','f1-score','class_weights']\n",
    "results = list()\n",
    "for weight in class_weights_list:\n",
    "    if selected_method == 'LOO':\n",
    "        cv = LeaveOneGroupOut()\n",
    "        splited = cv.split(X_train,Y_train,groups=default_data_scenario_groups)\n",
    "        result = compute_SVM_with_Classifier(testX_data=X_train,testY_data=Y_train,scaler=StandardScaler(),cross_validation = splited,\n",
    "                                            class_weigth_parameter= weight)  \n",
    "    elif selected_method =='Stratified K-Fold':\n",
    "        result = compute_SVM_with_Classifier(testX_data=X_train,testY_data=Y_train,scaler=StandardScaler(),cross_validation = selected_fold,\n",
    "                                            class_weigth_parameter= weight)\n",
    "    else:\n",
    "        result = compute_SVM_with_Classifier(trainX_data=X_train_split,trainY_data=Y_train_split,testX_data=X_test_split,testY_data=Y_test_split,scaler=StandardScaler(),\n",
    "                                            class_weigth_parameter= weight)\n",
    "    result.append(str(weight))\n",
    "    results.append(result)\n",
    "statistics = pd.DataFrame(columns=statistical_cols,data=results)\n",
    "display(statistics.sort_values(by=['mae']))\n",
    "plt.plot(statistics['class_weights'],statistics['mae'])\n",
    "selected_weight = statistics.sort_values(by=['mae'])['class_weights'].head(1).values[0]\n",
    "print(\"Selected Weight: \",selected_weight)"
   ]
  },
  {
   "cell_type": "markdown",
   "metadata": {},
   "source": [
    "### 13th Experiment:  Running the SVM function with the different decision function metrics"
   ]
  },
  {
   "cell_type": "code",
   "execution_count": null,
   "metadata": {},
   "outputs": [],
   "source": [
    "statistical_cols = ['mae','mse','rmse','precision','accuracy','f1-score','decision_function']\n",
    "results = list()\n",
    "for decision in decision_function_shape_list:\n",
    "    if selected_method == 'LOO':\n",
    "        cv = LeaveOneGroupOut()\n",
    "        splited = cv.split(X_train,Y_train,groups=default_data_scenario_groups)\n",
    "        result = compute_SVM_with_Classifier(testX_data=X_train,testY_data=Y_train,scaler=StandardScaler(),cross_validation = splited,\n",
    "                                            decision_function_shape_parameter= decision)  \n",
    "    elif selected_method =='Stratified K-Fold':\n",
    "        result = compute_SVM_with_Classifier(testX_data=X_train,testY_data=Y_train,scaler=StandardScaler(),cross_validation = selected_fold,\n",
    "                                            decision_function_shape_parameter= decision)\n",
    "    else:\n",
    "        result = compute_SVM_with_Classifier(trainX_data=X_train_split,trainY_data=Y_train_split,testX_data=X_test_split,testY_data=Y_test_split,scaler=StandardScaler(),\n",
    "                                            decision_function_shape_parameter= decision)\n",
    "    result.append(str(decision))\n",
    "    results.append(result)\n",
    "statistics = pd.DataFrame(columns=statistical_cols,data=results)\n",
    "display(statistics.sort_values(by=['mae']))\n",
    "plt.plot(statistics['decision_function'],statistics['mae'])\n",
    "selected_decision = statistics.sort_values(by=['mae'])['decision_function'].head(1).values[0]\n",
    "print(\"Selected Decision Function: \",selected_decision)"
   ]
  },
  {
   "cell_type": "markdown",
   "metadata": {},
   "source": [
    "### 14th Experiment: Running the KNN function with data filtered "
   ]
  },
  {
   "cell_type": "code",
   "execution_count": null,
   "metadata": {},
   "outputs": [],
   "source": [
    "def apply_filter():\n",
    "    statistical_cols =  ['mae','mse','rmse','precision','accuracy','f1-score','filter']\n",
    "    results = list()\n",
    "    for filterelement in filters_list:\n",
    "        if filterelement == 'Median':\n",
    "            result = apply_median_filter()\n",
    "        elif filterelement == 'Mean':\n",
    "            result = apply_mean_filter()\n",
    "        else:\n",
    "            result = compute_SVM_with_Classifier(trainX_data=X_train,trainY_data=Y_train,testX_data=X_train,testY_data=Y_train,\n",
    "                                                 scaler=selected_preprocesssing_func,cross_validation = selected_fold,\n",
    "                                                 C_parameter = selected_c_parameter, kernel_parameter=selected_kernel, \n",
    "                                                 gamma_parameter=selected_gamma_metric,  class_weigth_parameter=selected_weight, \n",
    "                                                 decision_function_shape_parameter=selected_decision)\n",
    "            result.append('No Filter')\n",
    "        results.append(result)\n",
    "    statistics = pd.DataFrame(columns=statistical_cols,data=results)\n",
    "    display(statistics.sort_values(by=['mae']))\n",
    "    plt.plot(statistics['filter'],statistics['mae'])\n",
    "    selected_filter = statistics.sort_values(by=['mae'])['filter'].head(1).values[0]\n",
    "    print(\"Selected Filter: \",selected_filter)\n",
    "    return selected_filter\n",
    "            \n",
    "\n",
    "def apply_median_filter():\n",
    "    medians = list()\n",
    "    aps = ['zone']\n",
    "    for col in X_train.columns: \n",
    "         aps.append(col)\n",
    "    for rp, access_points in reference_points:\n",
    "        zone = rp\n",
    "        medians_list = [rp]\n",
    "        for ap in X_train:\n",
    "            median = access_points[ap].median()\n",
    "            medians_list.append(median)\n",
    "        medians.append(medians_list)\n",
    "    median_pd = pd.DataFrame(medians,columns = aps)\n",
    "    x_train = median_pd.iloc[:,1:]\n",
    "    y_train = median_pd.iloc[:,0:1]\n",
    "    nan_filler = x_train.min().min()*1.010\n",
    "    x_train = x_train.fillna(nan_filler)\n",
    "    result = compute_SVM_with_Classifier(trainX_data=x_train,trainY_data=y_train,testX_data=X_train,testY_data=Y_train,\n",
    "                                                 scaler=selected_preprocesssing_func,\n",
    "                                                 C_parameter = selected_c_parameter, kernel_parameter=selected_kernel, \n",
    "                                                 gamma_parameter=selected_gamma_metric,  class_weigth_parameter=selected_weight, \n",
    "                                                 decision_function_shape_parameter=selected_decision)\n",
    "    result.append('Median')\n",
    "    return result\n",
    "\n",
    "def apply_mean_filter(): \n",
    "    means = list()\n",
    "    aps = ['zone']\n",
    "    for col in X_train.columns: \n",
    "         aps.append(col)\n",
    "    for rp, access_points in reference_points:\n",
    "        zone = rp\n",
    "        means_list = [zone]\n",
    "        for ap in X_train:\n",
    "            mean = access_points[ap].mean()\n",
    "            means_list.append(mean)\n",
    "        means.append(means_list)\n",
    "    mean_pd = pd.DataFrame(means,columns = aps)\n",
    "    x_train = mean_pd.iloc[:,1:]\n",
    "    y_train = mean_pd.iloc[:,0:1]\n",
    "    nan_filler = X_train.min().min()*1.010\n",
    "    x_train = x_train.fillna(nan_filler)\n",
    "    result = compute_SVM_with_Classifier(trainX_data=x_train,trainY_data=y_train,testX_data=X_train,testY_data=Y_train,\n",
    "                                                 scaler=selected_preprocesssing_func,\n",
    "                                                 C_parameter = selected_c_parameter, kernel_parameter=selected_kernel, \n",
    "                                                 gamma_parameter=selected_gamma_metric,  class_weigth_parameter=selected_weight, \n",
    "                                                 decision_function_shape_parameter=selected_decision)\n",
    "    result.append('Mean')\n",
    "    return result"
   ]
  },
  {
   "cell_type": "code",
   "execution_count": null,
   "metadata": {},
   "outputs": [],
   "source": [
    "selected_filter = apply_filter()"
   ]
  },
  {
   "cell_type": "markdown",
   "metadata": {},
   "source": [
    "# Results Analysis and Conclusion\n",
    "Analysis of the outcomes of the different experiments and final conclusions."
   ]
  },
  {
   "cell_type": "code",
   "execution_count": null,
   "metadata": {},
   "outputs": [],
   "source": [
    "conclusion_cols=['C Parameter','Cross Validation','Kernel','Preprocessing','Gamma','Class Weights','Decision Function','Filtering']\n",
    "conclusion_list = [selected_c_parameter,selected_method,selected_kernel,selected_preprocessing,selected_gamma_metric,selected_weight,\n",
    "                  selected_decision,selected_filter]\n",
    "conclusion_pd = pd.DataFrame([conclusion_list],columns= conclusion_cols)\n",
    "display(conclusion_pd)\n",
    "statistical_cols_csv = conclusion_cols\n",
    "statistical_cols_csv.append('Experimentation')\n",
    "result_csv = conclusion_list\n",
    "result_csv.append('SVM Classifier Bluetooth')\n",
    "results_csv = [result_csv]\n",
    "results_df = pd.DataFrame(columns=statistical_cols_csv,data=results_csv)\n",
    "results_df.to_csv('parameters_svm_results.csv',mode='a',index=False,header=False)"
   ]
  },
  {
   "cell_type": "markdown",
   "metadata": {},
   "source": [
    "### Best Result"
   ]
  },
  {
   "cell_type": "code",
   "execution_count": null,
   "metadata": {},
   "outputs": [],
   "source": [
    "statistical_cols = ['mae','mse','rmse','precision','accuracy','f1-score']\n",
    "if selected_method == 'LOO':\n",
    "    cv = LeaveOneGroupOut()\n",
    "    splited = cv.split(X_train,Y_train,groups=default_data_scenario_groups)\n",
    "    result = compute_SVM_with_Classifier(flag= 0,trainX_data=X_train,trainY_data=Y_train,testX_data=X_train,testY_data=Y_train,\n",
    "                                                 scaler=selected_preprocesssing_func,cross_validation = splited,\n",
    "                                                 C_parameter = selected_c_parameter, kernel_parameter=selected_kernel, \n",
    "                                                 gamma_parameter=selected_gamma_metric,  class_weigth_parameter=selected_weight, \n",
    "                                                 decision_function_shape_parameter=selected_decision)\n",
    "elif selected_method =='Stratified K-Fold':\n",
    "    result = compute_SVM_with_Classifier(flag= 0,trainX_data=X_train,trainY_data=Y_train,testX_data=X_train,testY_data=Y_train,\n",
    "                                                 scaler=selected_preprocesssing_func,cross_validation = selected_fold,\n",
    "                                                 C_parameter = selected_c_parameter, kernel_parameter=selected_kernel, \n",
    "                                                 gamma_parameter=selected_gamma_metric,  class_weigth_parameter=selected_weight, \n",
    "                                                 decision_function_shape_parameter=selected_decision) \n",
    "else:\n",
    "    result = compute_SVM_with_Classifier(flag= 0,trainX_data=X_train_split,trainY_data=Y_train_split,testX_data=X_test_split,testY_data=Y_test_split,\n",
    "                                                 scaler=selected_preprocesssing_func,\n",
    "                                                 C_parameter = selected_c_parameter, kernel_parameter=selected_kernel, \n",
    "                                                 gamma_parameter=selected_gamma_metric,  class_weigth_parameter=selected_weight, \n",
    "                                                 decision_function_shape_parameter=selected_decision)\n",
    "results = [result]\n",
    "statistics = pd.DataFrame(columns=statistical_cols,data=results)\n",
    "display(statistics.sort_values(by=['mae']))\n",
    "statistical_cols_csv = ['mae','mse','rmse']\n",
    "statistical_cols_csv.append('Experimentation')\n",
    "result_csv = result[0:3]\n",
    "result_csv.append('SVM Classifier Bluetooth')\n",
    "results_csv = [result_csv]\n",
    "results_df = pd.DataFrame(columns=statistical_cols_csv,data=results_csv)\n",
    "results_df.to_csv('tests_results.csv',mode='a',index=False,header=False)"
   ]
  }
 ],
 "metadata": {
  "kernelspec": {
   "display_name": "Python 3",
   "language": "python",
   "name": "python3"
  },
  "language_info": {
   "codemirror_mode": {
    "name": "ipython",
    "version": 3
   },
   "file_extension": ".py",
   "mimetype": "text/x-python",
   "name": "python",
   "nbconvert_exporter": "python",
   "pygments_lexer": "ipython3",
   "version": "3.7.6"
  }
 },
 "nbformat": 4,
 "nbformat_minor": 4
}
