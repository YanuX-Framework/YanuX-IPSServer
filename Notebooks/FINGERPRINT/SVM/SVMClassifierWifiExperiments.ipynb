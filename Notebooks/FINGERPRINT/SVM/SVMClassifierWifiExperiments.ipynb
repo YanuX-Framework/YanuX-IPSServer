{
 "cells": [
  {
   "cell_type": "markdown",
   "metadata": {},
   "source": [
    "# SVM Classifier using Wi-Fi data"
   ]
  },
  {
   "cell_type": "markdown",
   "metadata": {},
   "source": [
    "<p>Jupyter Notebook which aims to explore the ML algorithm Support Vector Machine as a Classifier algorithm using the Wi-Fi technology moreover using the strength of the signal as a basis. </p>"
   ]
  },
  {
   "cell_type": "markdown",
   "metadata": {},
   "source": [
    "## Imports\n",
    "Imports of the libraries to be used throughout the experiments"
   ]
  },
  {
   "cell_type": "code",
   "execution_count": 1,
   "metadata": {},
   "outputs": [],
   "source": [
    "#CSV Related\n",
    "import pandas as pd\n",
    "import csv\n",
    "\n",
    "# Machine Learning\n",
    "import numpy as np\n",
    "from sklearn.svm import SVC\n",
    "from sklearn.metrics import classification_report, confusion_matrix, accuracy_score\n",
    "from sklearn.model_selection import train_test_split,KFold,StratifiedKFold\n",
    "from sklearn.model_selection import cross_val_score, cross_val_predict\n",
    "from sklearn.preprocessing import StandardScaler, MinMaxScaler, MaxAbsScaler\n",
    "from sklearn.pipeline import Pipeline\n",
    "from sklearn.model_selection import GridSearchCV\n",
    "from sklearn.model_selection import LeaveOneGroupOut\n",
    "from sklearn.pipeline import make_pipeline\n",
    "import sklearn\n",
    "import scipy\n",
    "\n",
    "#Graphical Display\n",
    "%matplotlib inline\n",
    "from IPython.display import display, HTML\n",
    "import matplotlib.pyplot as plt\n",
    "\n",
    "plt.style.use('seaborn-whitegrid')\n",
    "\n",
    "#Additional Helper Libraries\n",
    "from operator import itemgetter\n",
    "import re"
   ]
  },
  {
   "cell_type": "markdown",
   "metadata": {},
   "source": [
    "## Load File and Structure Data Function\n",
    "Function to load csv and structure data accordingly"
   ]
  },
  {
   "cell_type": "code",
   "execution_count": 2,
   "metadata": {},
   "outputs": [],
   "source": [
    "#Function that reads a csv file and structures the data accordingly\n",
    "def load_file(filename):\n",
    "    dataset = pd.read_csv(filename)\n",
    "    return dataset"
   ]
  },
  {
   "cell_type": "markdown",
   "metadata": {},
   "source": [
    "## Initialize Training Data"
   ]
  },
  {
   "cell_type": "code",
   "execution_count": 3,
   "metadata": {},
   "outputs": [],
   "source": [
    "def find_beacon_index():\n",
    "    first_beacon_index = -1\n",
    "    for ap in dataset.iloc[:,4:]:\n",
    "        if ap.islower() == False:\n",
    "            first_beacon_index = list(dataset).index(ap)\n",
    "            break\n",
    "    return first_beacon_index"
   ]
  },
  {
   "cell_type": "code",
   "execution_count": 4,
   "metadata": {},
   "outputs": [],
   "source": [
    "dataset = load_file('../radiomapBluetoothWiFiclassifier.csv')\n",
    "beacon_index = find_beacon_index()\n",
    "X_train = dataset.iloc[:,4:beacon_index]\n",
    "Y_train = dataset.iloc[:,3:4]\n",
    "nan_filler = X_train.min().min()*1.010\n",
    "X_train = X_train.replace(0, np.nan)\n",
    "X_train = X_train.fillna(nan_filler)"
   ]
  },
  {
   "cell_type": "markdown",
   "metadata": {},
   "source": [
    "## Access Points Graphical Display\n",
    "Graphical display with the average strength signal transmitted by each access point"
   ]
  },
  {
   "cell_type": "code",
   "execution_count": 5,
   "metadata": {},
   "outputs": [
    {
     "data": {
      "text/plain": [
       "<BarContainer object of 15 artists>"
      ]
     },
     "execution_count": 5,
     "metadata": {},
     "output_type": "execute_result"
    },
    {
     "data": {
      "image/png": "[encoded data removed]",
      "text/plain": [
       "<Figure size 432x288 with 1 Axes>"
      ]
     },
     "metadata": {},
     "output_type": "display_data"
    }
   ],
   "source": [
    "count_aps = {}\n",
    "counter = 1\n",
    "first_beacon_index = -1\n",
    "for ap in X_train:\n",
    "    mean_value = dataset[ap].mean()\n",
    "    count_aps['ap ' + str(counter)] = mean_value\n",
    "    counter = counter + 1\n",
    "plt.bar(range(len(count_aps)),list(count_aps.values()),align='center',tick_label=list(count_aps.keys()))"
   ]
  },
  {
   "cell_type": "markdown",
   "metadata": {},
   "source": [
    "## Number of Fingerprints per Reference Point Graphical Display\n",
    "Graphical display of the number of fingerprints retrieved at each reference point"
   ]
  },
  {
   "cell_type": "code",
   "execution_count": 6,
   "metadata": {},
   "outputs": [
    {
     "data": {
      "text/plain": [
       "<matplotlib.axes._subplots.AxesSubplot at 0x2264d0e5f88>"
      ]
     },
     "execution_count": 6,
     "metadata": {},
     "output_type": "execute_result"
    },
    {
     "data": {
      "image/png": "[encoded data removed]",
      "text/plain": [
       "<Figure size 432x288 with 1 Axes>"
      ]
     },
     "metadata": {},
     "output_type": "display_data"
    }
   ],
   "source": [
    "reference_points = dataset.groupby(['zone'])\n",
    "reference_points.size().plot(kind=\"bar\")"
   ]
  },
  {
   "cell_type": "markdown",
   "metadata": {},
   "source": [
    "## Signal Strength Distribution Display\n",
    "Graphical display of the distribution of the signal strength"
   ]
  },
  {
   "cell_type": "markdown",
   "metadata": {},
   "source": [
    "### Wifi Signal Strength"
   ]
  },
  {
   "cell_type": "code",
   "execution_count": 7,
   "metadata": {},
   "outputs": [
    {
     "data": {
      "text/plain": [
       "Text(0, 0.5, 'Probability')"
      ]
     },
     "execution_count": 7,
     "metadata": {},
     "output_type": "execute_result"
    },
    {
     "data": {
      "image/png": "[encoded data removed]",
      "text/plain": [
       "<Figure size 432x288 with 1 Axes>"
      ]
     },
     "metadata": {},
     "output_type": "display_data"
    }
   ],
   "source": [
    "flatten_results = X_train.values.flatten().tolist()\n",
    "flatten_results = list(filter((0).__ne__,flatten_results))\n",
    "plt.hist(flatten_results,density=True)\n",
    "plt.xlabel('RSSI')\n",
    "plt.ylabel('Probability')"
   ]
  },
  {
   "cell_type": "markdown",
   "metadata": {},
   "source": [
    "## Initialize SVM Parameters arrays\n",
    "Initialization of the arrays with the different possible values for the parameters of SVM Classifier function"
   ]
  },
  {
   "cell_type": "code",
   "execution_count": 8,
   "metadata": {},
   "outputs": [],
   "source": [
    "#SVM Configurable Arrays\n",
    "C_parameter_list = [0.25,0.5,1.0,10.0,100.0,1000.0] \n",
    "kernel_list = [\"linear\",\"poly\",\"rbf\",\"sigmoid\"]\n",
    "filters_list = [\"Median\",\"Mean\",\"No Filter\"]\n",
    "gamma_list = [10,100,\"scale\",\"auto\"]\n",
    "scaler_list = [StandardScaler(),MinMaxScaler(),MaxAbsScaler(),None]\n",
    "class_weights_list = [\"balanced\",None]\n",
    "decision_function_shape_list = [\"ovo\",\"ovr\"]\n",
    "default_data_scenario = Y_train.copy()\n",
    "default_data_scenario_groups = default_data_scenario[\"zone\"].map(str)"
   ]
  },
  {
   "cell_type": "markdown",
   "metadata": {},
   "source": [
    "## Statistics Output Format\n",
    "Structure of the statistical output of each call to the SVM Classification Function"
   ]
  },
  {
   "cell_type": "code",
   "execution_count": 9,
   "metadata": {},
   "outputs": [],
   "source": [
    "def structure_data(data,precision,accuracy,f1score):\n",
    "    mae = data['error'].abs().mean()\n",
    "    mse = np.power(data['error'],2).mean()\n",
    "    rsme = np.sqrt(mse)\n",
    "    precision = precision\n",
    "    accuracy = accuracy\n",
    "    f1score = f1score\n",
    "    statistical_results = [mae,mse,rsme,precision,accuracy,f1score]\n",
    "    return statistical_results"
   ]
  },
  {
   "cell_type": "markdown",
   "metadata": {},
   "source": [
    "## Configurable SVM Classifier Function "
   ]
  },
  {
   "cell_type": "code",
   "execution_count": 10,
   "metadata": {},
   "outputs": [],
   "source": [
    "def compute_SVM_with_Classifier(flag = 1,trainX_data = None,trainY_data = None,testX_data = None,testY_data = None,scaler = StandardScaler(),\n",
    "                                cross_validation = None,C_parameter = 1.0, kernel_parameter='rbf', gamma_parameter=\"scale\", \n",
    "                                class_weigth_parameter=None, decision_function_shape_parameter='ovr'):\n",
    "    # Init the SVM\n",
    "    svm_classifier_estimator = SVC(C=C_parameter,kernel=kernel_parameter,gamma=gamma_parameter,class_weight=class_weigth_parameter,\n",
    "                                  decision_function_shape=decision_function_shape_parameter,random_state = 6)\n",
    "    if scaler is not None:\n",
    "        # Make pipeline using scaler transformation\n",
    "        main_estimator = make_pipeline(scaler,svm_classifier_estimator)\n",
    "    else:\n",
    "        main_estimator = svm_classifier_estimator\n",
    "    if cross_validation is None:\n",
    "        # Fit the training data\n",
    "        main_estimator.fit(trainX_data,trainY_data.values.ravel())\n",
    "        # Predict the results of the testing data features\n",
    "        predict_test = main_estimator.predict(testX_data)\n",
    "        matrix = confusion_matrix(testY_data, predict_test)\n",
    "        report = classification_report(testY_data, predict_test,output_dict=True)\n",
    "        accuracy = accuracy_score(testY_data,predict_test)\n",
    "    else:\n",
    "        predict_test = cross_val_predict(main_estimator,testX_data.values,testY_data.values.ravel(),cv = cross_validation,groups=default_data_scenario_groups)\n",
    "        matrix = confusion_matrix(testY_data, predict_test)\n",
    "        report = classification_report(testY_data, predict_test,output_dict=True)\n",
    "        accuracy = accuracy_score(testY_data,predict_test)\n",
    "    # Structure data to statistics\n",
    "    statistics = pd.DataFrame(report).transpose()\n",
    "    statistical_array = list()\n",
    "    coord_cols = ['zone']\n",
    "    predictions = pd.DataFrame(predict_test,columns=coord_cols)\n",
    "    result = testY_data.join(predictions, rsuffix=\"_predicted\")\n",
    "    error = pd.DataFrame(np.where(predictions[coord_cols] != result[coord_cols],1,0), columns=[\"error\"])\n",
    "    result = pd.concat([result,error], axis = 1)\n",
    "    if flag == 0:\n",
    "        print(\"Confusion Matrix:\")\n",
    "        print(matrix)\n",
    "        display(statistics)\n",
    "        display(result)\n",
    "    return structure_data(result,statistics['precision'].mean(),accuracy,statistics['f1-score'].mean())"
   ]
  },
  {
   "cell_type": "markdown",
   "metadata": {},
   "source": [
    "## Experiments"
   ]
  },
  {
   "cell_type": "markdown",
   "metadata": {},
   "source": [
    "### 1st Experiment - Running SVM function with default parameters and testing data equal to training data"
   ]
  },
  {
   "cell_type": "code",
   "execution_count": 11,
   "metadata": {},
   "outputs": [
    {
     "name": "stdout",
     "output_type": "stream",
     "text": [
      "Confusion Matrix:\n",
      "[[29  0  1  0]\n",
      " [ 0 30  0  0]\n",
      " [ 0  0 30  0]\n",
      " [ 1  0  0 29]]\n"
     ]
    },
    {
     "data": {
      "text/html": [
       "<div>\n",
       "<style scoped>\n",
       "    .dataframe tbody tr th:only-of-type {\n",
       "        vertical-align: middle;\n",
       "    }\n",
       "\n",
       "    .dataframe tbody tr th {\n",
       "        vertical-align: top;\n",
       "    }\n",
       "\n",
       "    .dataframe thead th {\n",
       "        text-align: right;\n",
       "    }\n",
       "</style>\n",
       "<table border=\"1\" class=\"dataframe\">\n",
       "  <thead>\n",
       "    <tr style=\"text-align: right;\">\n",
       "      <th></th>\n",
       "      <th>precision</th>\n",
       "      <th>recall</th>\n",
       "      <th>f1-score</th>\n",
       "      <th>support</th>\n",
       "    </tr>\n",
       "  </thead>\n",
       "  <tbody>\n",
       "    <tr>\n",
       "      <th>Bathroom</th>\n",
       "      <td>0.966667</td>\n",
       "      <td>0.966667</td>\n",
       "      <td>0.966667</td>\n",
       "      <td>30.000000</td>\n",
       "    </tr>\n",
       "    <tr>\n",
       "      <th>Bedroom</th>\n",
       "      <td>1.000000</td>\n",
       "      <td>1.000000</td>\n",
       "      <td>1.000000</td>\n",
       "      <td>30.000000</td>\n",
       "    </tr>\n",
       "    <tr>\n",
       "      <th>Kitchen</th>\n",
       "      <td>0.967742</td>\n",
       "      <td>1.000000</td>\n",
       "      <td>0.983607</td>\n",
       "      <td>30.000000</td>\n",
       "    </tr>\n",
       "    <tr>\n",
       "      <th>Living Room</th>\n",
       "      <td>1.000000</td>\n",
       "      <td>0.966667</td>\n",
       "      <td>0.983051</td>\n",
       "      <td>30.000000</td>\n",
       "    </tr>\n",
       "    <tr>\n",
       "      <th>accuracy</th>\n",
       "      <td>0.983333</td>\n",
       "      <td>0.983333</td>\n",
       "      <td>0.983333</td>\n",
       "      <td>0.983333</td>\n",
       "    </tr>\n",
       "    <tr>\n",
       "      <th>macro avg</th>\n",
       "      <td>0.983602</td>\n",
       "      <td>0.983333</td>\n",
       "      <td>0.983331</td>\n",
       "      <td>120.000000</td>\n",
       "    </tr>\n",
       "    <tr>\n",
       "      <th>weighted avg</th>\n",
       "      <td>0.983602</td>\n",
       "      <td>0.983333</td>\n",
       "      <td>0.983331</td>\n",
       "      <td>120.000000</td>\n",
       "    </tr>\n",
       "  </tbody>\n",
       "</table>\n",
       "</div>"
      ],
      "text/plain": [
       "              precision    recall  f1-score     support\n",
       "Bathroom       0.966667  0.966667  0.966667   30.000000\n",
       "Bedroom        1.000000  1.000000  1.000000   30.000000\n",
       "Kitchen        0.967742  1.000000  0.983607   30.000000\n",
       "Living Room    1.000000  0.966667  0.983051   30.000000\n",
       "accuracy       0.983333  0.983333  0.983333    0.983333\n",
       "macro avg      0.983602  0.983333  0.983331  120.000000\n",
       "weighted avg   0.983602  0.983333  0.983331  120.000000"
      ]
     },
     "metadata": {},
     "output_type": "display_data"
    },
    {
     "data": {
      "text/html": [
       "<div>\n",
       "<style scoped>\n",
       "    .dataframe tbody tr th:only-of-type {\n",
       "        vertical-align: middle;\n",
       "    }\n",
       "\n",
       "    .dataframe tbody tr th {\n",
       "        vertical-align: top;\n",
       "    }\n",
       "\n",
       "    .dataframe thead th {\n",
       "        text-align: right;\n",
       "    }\n",
       "</style>\n",
       "<table border=\"1\" class=\"dataframe\">\n",
       "  <thead>\n",
       "    <tr style=\"text-align: right;\">\n",
       "      <th></th>\n",
       "      <th>zone</th>\n",
       "      <th>zone_predicted</th>\n",
       "      <th>error</th>\n",
       "    </tr>\n",
       "  </thead>\n",
       "  <tbody>\n",
       "    <tr>\n",
       "      <th>0</th>\n",
       "      <td>Kitchen</td>\n",
       "      <td>Kitchen</td>\n",
       "      <td>0</td>\n",
       "    </tr>\n",
       "    <tr>\n",
       "      <th>1</th>\n",
       "      <td>Kitchen</td>\n",
       "      <td>Kitchen</td>\n",
       "      <td>0</td>\n",
       "    </tr>\n",
       "    <tr>\n",
       "      <th>2</th>\n",
       "      <td>Kitchen</td>\n",
       "      <td>Kitchen</td>\n",
       "      <td>0</td>\n",
       "    </tr>\n",
       "    <tr>\n",
       "      <th>3</th>\n",
       "      <td>Kitchen</td>\n",
       "      <td>Kitchen</td>\n",
       "      <td>0</td>\n",
       "    </tr>\n",
       "    <tr>\n",
       "      <th>4</th>\n",
       "      <td>Kitchen</td>\n",
       "      <td>Kitchen</td>\n",
       "      <td>0</td>\n",
       "    </tr>\n",
       "    <tr>\n",
       "      <th>...</th>\n",
       "      <td>...</td>\n",
       "      <td>...</td>\n",
       "      <td>...</td>\n",
       "    </tr>\n",
       "    <tr>\n",
       "      <th>115</th>\n",
       "      <td>Bathroom</td>\n",
       "      <td>Bathroom</td>\n",
       "      <td>0</td>\n",
       "    </tr>\n",
       "    <tr>\n",
       "      <th>116</th>\n",
       "      <td>Bathroom</td>\n",
       "      <td>Bathroom</td>\n",
       "      <td>0</td>\n",
       "    </tr>\n",
       "    <tr>\n",
       "      <th>117</th>\n",
       "      <td>Bathroom</td>\n",
       "      <td>Bathroom</td>\n",
       "      <td>0</td>\n",
       "    </tr>\n",
       "    <tr>\n",
       "      <th>118</th>\n",
       "      <td>Bathroom</td>\n",
       "      <td>Bathroom</td>\n",
       "      <td>0</td>\n",
       "    </tr>\n",
       "    <tr>\n",
       "      <th>119</th>\n",
       "      <td>Bathroom</td>\n",
       "      <td>Bathroom</td>\n",
       "      <td>0</td>\n",
       "    </tr>\n",
       "  </tbody>\n",
       "</table>\n",
       "<p>120 rows × 3 columns</p>\n",
       "</div>"
      ],
      "text/plain": [
       "         zone zone_predicted  error\n",
       "0     Kitchen        Kitchen      0\n",
       "1     Kitchen        Kitchen      0\n",
       "2     Kitchen        Kitchen      0\n",
       "3     Kitchen        Kitchen      0\n",
       "4     Kitchen        Kitchen      0\n",
       "..        ...            ...    ...\n",
       "115  Bathroom       Bathroom      0\n",
       "116  Bathroom       Bathroom      0\n",
       "117  Bathroom       Bathroom      0\n",
       "118  Bathroom       Bathroom      0\n",
       "119  Bathroom       Bathroom      0\n",
       "\n",
       "[120 rows x 3 columns]"
      ]
     },
     "metadata": {},
     "output_type": "display_data"
    },
    {
     "data": {
      "text/html": [
       "<div>\n",
       "<style scoped>\n",
       "    .dataframe tbody tr th:only-of-type {\n",
       "        vertical-align: middle;\n",
       "    }\n",
       "\n",
       "    .dataframe tbody tr th {\n",
       "        vertical-align: top;\n",
       "    }\n",
       "\n",
       "    .dataframe thead th {\n",
       "        text-align: right;\n",
       "    }\n",
       "</style>\n",
       "<table border=\"1\" class=\"dataframe\">\n",
       "  <thead>\n",
       "    <tr style=\"text-align: right;\">\n",
       "      <th></th>\n",
       "      <th>mae</th>\n",
       "      <th>mse</th>\n",
       "      <th>rmse</th>\n",
       "      <th>precision</th>\n",
       "      <th>accuracy</th>\n",
       "      <th>f1-score</th>\n",
       "    </tr>\n",
       "  </thead>\n",
       "  <tbody>\n",
       "    <tr>\n",
       "      <th>0</th>\n",
       "      <td>0.016667</td>\n",
       "      <td>0.016667</td>\n",
       "      <td>0.129099</td>\n",
       "      <td>0.983564</td>\n",
       "      <td>0.983333</td>\n",
       "      <td>0.983331</td>\n",
       "    </tr>\n",
       "  </tbody>\n",
       "</table>\n",
       "</div>"
      ],
      "text/plain": [
       "        mae       mse      rmse  precision  accuracy  f1-score\n",
       "0  0.016667  0.016667  0.129099   0.983564  0.983333  0.983331"
      ]
     },
     "metadata": {},
     "output_type": "display_data"
    }
   ],
   "source": [
    "statistical_cols = ['mae','mse','rmse','precision','accuracy','f1-score']\n",
    "result = compute_SVM_with_Classifier(flag=0,trainX_data=X_train,trainY_data=Y_train,testX_data=X_train,testY_data=Y_train,scaler=StandardScaler())\n",
    "statistical_results = [result]\n",
    "statistics = pd.DataFrame(columns=statistical_cols,data=statistical_results)\n",
    "display(statistics)"
   ]
  },
  {
   "cell_type": "markdown",
   "metadata": {},
   "source": [
    "### 2nd Experiment - Tunning parameters with GridSearchCV"
   ]
  },
  {
   "cell_type": "code",
   "execution_count": 12,
   "metadata": {},
   "outputs": [],
   "source": [
    "def tune_parameters():\n",
    "    results = []\n",
    "    tuned_parameters = {\n",
    "        'svc__kernel':kernel_list,\n",
    "        'svc__C':C_parameter_list,\n",
    "        'svc__gamma':gamma_list,\n",
    "        'svc__class_weight':class_weights_list,\n",
    "        'svc__decision_function_shape':decision_function_shape_list\n",
    "    }\n",
    "    scores = ['precision', 'recall','f1']\n",
    "    for score in scores:\n",
    "        print(\"# Tuning hyper-parameters for %s\" % score)\n",
    "        print()\n",
    "        pipe = Pipeline([('standardizer', StandardScaler()), ('svc', SVC())])\n",
    "        clf = GridSearchCV(\n",
    "           pipe, tuned_parameters, scoring='%s_macro' % score,n_jobs=-1\n",
    "        )\n",
    "        clf.fit(X_train,Y_train.values.ravel())\n",
    "        clf.best_params_['score'] = score\n",
    "        results.append(clf.best_params_)\n",
    "    gridcv_results = pd.DataFrame(results)\n",
    "    display(gridcv_results)\n",
    "        "
   ]
  },
  {
   "cell_type": "code",
   "execution_count": 13,
   "metadata": {},
   "outputs": [
    {
     "name": "stdout",
     "output_type": "stream",
     "text": [
      "# Tuning hyper-parameters for precision\n",
      "\n",
      "# Tuning hyper-parameters for recall\n",
      "\n",
      "# Tuning hyper-parameters for f1\n",
      "\n"
     ]
    },
    {
     "data": {
      "text/html": [
       "<div>\n",
       "<style scoped>\n",
       "    .dataframe tbody tr th:only-of-type {\n",
       "        vertical-align: middle;\n",
       "    }\n",
       "\n",
       "    .dataframe tbody tr th {\n",
       "        vertical-align: top;\n",
       "    }\n",
       "\n",
       "    .dataframe thead th {\n",
       "        text-align: right;\n",
       "    }\n",
       "</style>\n",
       "<table border=\"1\" class=\"dataframe\">\n",
       "  <thead>\n",
       "    <tr style=\"text-align: right;\">\n",
       "      <th></th>\n",
       "      <th>svc__C</th>\n",
       "      <th>svc__class_weight</th>\n",
       "      <th>svc__decision_function_shape</th>\n",
       "      <th>svc__gamma</th>\n",
       "      <th>svc__kernel</th>\n",
       "      <th>score</th>\n",
       "    </tr>\n",
       "  </thead>\n",
       "  <tbody>\n",
       "    <tr>\n",
       "      <th>0</th>\n",
       "      <td>0.5</td>\n",
       "      <td>balanced</td>\n",
       "      <td>ovo</td>\n",
       "      <td>10</td>\n",
       "      <td>linear</td>\n",
       "      <td>precision</td>\n",
       "    </tr>\n",
       "    <tr>\n",
       "      <th>1</th>\n",
       "      <td>0.5</td>\n",
       "      <td>balanced</td>\n",
       "      <td>ovo</td>\n",
       "      <td>10</td>\n",
       "      <td>linear</td>\n",
       "      <td>recall</td>\n",
       "    </tr>\n",
       "    <tr>\n",
       "      <th>2</th>\n",
       "      <td>0.5</td>\n",
       "      <td>balanced</td>\n",
       "      <td>ovo</td>\n",
       "      <td>10</td>\n",
       "      <td>linear</td>\n",
       "      <td>f1</td>\n",
       "    </tr>\n",
       "  </tbody>\n",
       "</table>\n",
       "</div>"
      ],
      "text/plain": [
       "   svc__C svc__class_weight svc__decision_function_shape  svc__gamma  \\\n",
       "0     0.5          balanced                          ovo          10   \n",
       "1     0.5          balanced                          ovo          10   \n",
       "2     0.5          balanced                          ovo          10   \n",
       "\n",
       "  svc__kernel      score  \n",
       "0      linear  precision  \n",
       "1      linear     recall  \n",
       "2      linear         f1  "
      ]
     },
     "metadata": {},
     "output_type": "display_data"
    }
   ],
   "source": [
    "tune_parameters()"
   ]
  },
  {
   "cell_type": "markdown",
   "metadata": {},
   "source": [
    "### 3th Experiment - Running the SVM function with default parameters and Hold-out Cross Validation"
   ]
  },
  {
   "cell_type": "code",
   "execution_count": 14,
   "metadata": {},
   "outputs": [
    {
     "data": {
      "text/html": [
       "<div>\n",
       "<style scoped>\n",
       "    .dataframe tbody tr th:only-of-type {\n",
       "        vertical-align: middle;\n",
       "    }\n",
       "\n",
       "    .dataframe tbody tr th {\n",
       "        vertical-align: top;\n",
       "    }\n",
       "\n",
       "    .dataframe thead th {\n",
       "        text-align: right;\n",
       "    }\n",
       "</style>\n",
       "<table border=\"1\" class=\"dataframe\">\n",
       "  <thead>\n",
       "    <tr style=\"text-align: right;\">\n",
       "      <th></th>\n",
       "      <th>mae</th>\n",
       "      <th>mse</th>\n",
       "      <th>rmse</th>\n",
       "      <th>precision</th>\n",
       "      <th>accuracy</th>\n",
       "      <th>f1-score</th>\n",
       "      <th>test_size</th>\n",
       "    </tr>\n",
       "  </thead>\n",
       "  <tbody>\n",
       "    <tr>\n",
       "      <th>0</th>\n",
       "      <td>0.000000</td>\n",
       "      <td>0.000000</td>\n",
       "      <td>0.000000</td>\n",
       "      <td>1.000000</td>\n",
       "      <td>1.000000</td>\n",
       "      <td>1.000000</td>\n",
       "      <td>0.1</td>\n",
       "    </tr>\n",
       "    <tr>\n",
       "      <th>3</th>\n",
       "      <td>0.062500</td>\n",
       "      <td>0.062500</td>\n",
       "      <td>0.250000</td>\n",
       "      <td>0.942602</td>\n",
       "      <td>0.937500</td>\n",
       "      <td>0.938097</td>\n",
       "      <td>0.4</td>\n",
       "    </tr>\n",
       "    <tr>\n",
       "      <th>2</th>\n",
       "      <td>0.083333</td>\n",
       "      <td>0.083333</td>\n",
       "      <td>0.288675</td>\n",
       "      <td>0.925325</td>\n",
       "      <td>0.916667</td>\n",
       "      <td>0.917647</td>\n",
       "      <td>0.3</td>\n",
       "    </tr>\n",
       "    <tr>\n",
       "      <th>4</th>\n",
       "      <td>0.100000</td>\n",
       "      <td>0.100000</td>\n",
       "      <td>0.316228</td>\n",
       "      <td>0.902679</td>\n",
       "      <td>0.900000</td>\n",
       "      <td>0.900906</td>\n",
       "      <td>0.5</td>\n",
       "    </tr>\n",
       "    <tr>\n",
       "      <th>6</th>\n",
       "      <td>0.107143</td>\n",
       "      <td>0.107143</td>\n",
       "      <td>0.327327</td>\n",
       "      <td>0.899252</td>\n",
       "      <td>0.892857</td>\n",
       "      <td>0.893535</td>\n",
       "      <td>0.7</td>\n",
       "    </tr>\n",
       "    <tr>\n",
       "      <th>5</th>\n",
       "      <td>0.111111</td>\n",
       "      <td>0.111111</td>\n",
       "      <td>0.333333</td>\n",
       "      <td>0.894416</td>\n",
       "      <td>0.888889</td>\n",
       "      <td>0.889823</td>\n",
       "      <td>0.6</td>\n",
       "    </tr>\n",
       "    <tr>\n",
       "      <th>1</th>\n",
       "      <td>0.125000</td>\n",
       "      <td>0.125000</td>\n",
       "      <td>0.353553</td>\n",
       "      <td>0.892857</td>\n",
       "      <td>0.875000</td>\n",
       "      <td>0.876855</td>\n",
       "      <td>0.2</td>\n",
       "    </tr>\n",
       "    <tr>\n",
       "      <th>7</th>\n",
       "      <td>0.197917</td>\n",
       "      <td>0.197917</td>\n",
       "      <td>0.444878</td>\n",
       "      <td>0.831963</td>\n",
       "      <td>0.802083</td>\n",
       "      <td>0.799462</td>\n",
       "      <td>0.8</td>\n",
       "    </tr>\n",
       "    <tr>\n",
       "      <th>8</th>\n",
       "      <td>0.490741</td>\n",
       "      <td>0.490741</td>\n",
       "      <td>0.700529</td>\n",
       "      <td>0.565743</td>\n",
       "      <td>0.509259</td>\n",
       "      <td>0.501415</td>\n",
       "      <td>0.9</td>\n",
       "    </tr>\n",
       "  </tbody>\n",
       "</table>\n",
       "</div>"
      ],
      "text/plain": [
       "        mae       mse      rmse  precision  accuracy  f1-score  test_size\n",
       "0  0.000000  0.000000  0.000000   1.000000  1.000000  1.000000        0.1\n",
       "3  0.062500  0.062500  0.250000   0.942602  0.937500  0.938097        0.4\n",
       "2  0.083333  0.083333  0.288675   0.925325  0.916667  0.917647        0.3\n",
       "4  0.100000  0.100000  0.316228   0.902679  0.900000  0.900906        0.5\n",
       "6  0.107143  0.107143  0.327327   0.899252  0.892857  0.893535        0.7\n",
       "5  0.111111  0.111111  0.333333   0.894416  0.888889  0.889823        0.6\n",
       "1  0.125000  0.125000  0.353553   0.892857  0.875000  0.876855        0.2\n",
       "7  0.197917  0.197917  0.444878   0.831963  0.802083  0.799462        0.8\n",
       "8  0.490741  0.490741  0.700529   0.565743  0.509259  0.501415        0.9"
      ]
     },
     "metadata": {},
     "output_type": "display_data"
    },
    {
     "data": {
      "text/plain": [
       "[<matplotlib.lines.Line2D at 0x2264d3c5448>]"
      ]
     },
     "execution_count": 14,
     "metadata": {},
     "output_type": "execute_result"
    },
    {
     "data": {
      "image/png": "[encoded data removed]",
      "text/plain": [
       "<Figure size 432x288 with 1 Axes>"
      ]
     },
     "metadata": {},
     "output_type": "display_data"
    }
   ],
   "source": [
    "statistical_cols = ['mae','mse','rmse','precision','accuracy','f1-score']\n",
    "test_sizes =[0.1,0.2,0.3,0.4,0.5,0.6,0.7,0.8,0.9]\n",
    "results = list()\n",
    "for size in test_sizes:\n",
    "    X_train_split, X_test_split, y_train_split, y_test_split = train_test_split(X_train,Y_train, test_size = size, random_state = 6,stratify=default_data_scenario_groups)\n",
    "    X_train_split = X_train_split.reset_index(drop=True)\n",
    "    X_test_split = X_test_split.reset_index(drop=True)\n",
    "    y_train_split = y_train_split.reset_index(drop=True)\n",
    "    y_test_split = y_test_split.reset_index(drop=True)\n",
    "    result = compute_SVM_with_Classifier(trainX_data=X_train_split,trainY_data=y_train_split,testX_data=X_test_split,testY_data=y_test_split,scaler=StandardScaler())\n",
    "    result.append(size)\n",
    "    results.append(result)\n",
    "statistical_cols.append('test_size')\n",
    "statistics = pd.DataFrame(columns=statistical_cols,data=results)\n",
    "display(statistics.sort_values(by=['mae'],))\n",
    "plt.plot(statistics['test_size'],statistics['mae'])"
   ]
  },
  {
   "cell_type": "markdown",
   "metadata": {},
   "source": [
    "### 4th Experiment -  Running the SVM function with default parameters and Stratified K-Fold cross validation"
   ]
  },
  {
   "cell_type": "code",
   "execution_count": 15,
   "metadata": {},
   "outputs": [
    {
     "data": {
      "text/html": [
       "<div>\n",
       "<style scoped>\n",
       "    .dataframe tbody tr th:only-of-type {\n",
       "        vertical-align: middle;\n",
       "    }\n",
       "\n",
       "    .dataframe tbody tr th {\n",
       "        vertical-align: top;\n",
       "    }\n",
       "\n",
       "    .dataframe thead th {\n",
       "        text-align: right;\n",
       "    }\n",
       "</style>\n",
       "<table border=\"1\" class=\"dataframe\">\n",
       "  <thead>\n",
       "    <tr style=\"text-align: right;\">\n",
       "      <th></th>\n",
       "      <th>mae</th>\n",
       "      <th>mse</th>\n",
       "      <th>rmse</th>\n",
       "      <th>precision</th>\n",
       "      <th>accuracy</th>\n",
       "      <th>f1-score</th>\n",
       "      <th>folds</th>\n",
       "    </tr>\n",
       "  </thead>\n",
       "  <tbody>\n",
       "    <tr>\n",
       "      <th>5</th>\n",
       "      <td>0.075000</td>\n",
       "      <td>0.075000</td>\n",
       "      <td>0.273861</td>\n",
       "      <td>0.927349</td>\n",
       "      <td>0.925000</td>\n",
       "      <td>0.924749</td>\n",
       "      <td>7</td>\n",
       "    </tr>\n",
       "    <tr>\n",
       "      <th>6</th>\n",
       "      <td>0.075000</td>\n",
       "      <td>0.075000</td>\n",
       "      <td>0.273861</td>\n",
       "      <td>0.927722</td>\n",
       "      <td>0.925000</td>\n",
       "      <td>0.925026</td>\n",
       "      <td>8</td>\n",
       "    </tr>\n",
       "    <tr>\n",
       "      <th>8</th>\n",
       "      <td>0.075000</td>\n",
       "      <td>0.075000</td>\n",
       "      <td>0.273861</td>\n",
       "      <td>0.928075</td>\n",
       "      <td>0.925000</td>\n",
       "      <td>0.924953</td>\n",
       "      <td>10</td>\n",
       "    </tr>\n",
       "    <tr>\n",
       "      <th>7</th>\n",
       "      <td>0.091667</td>\n",
       "      <td>0.091667</td>\n",
       "      <td>0.302765</td>\n",
       "      <td>0.912011</td>\n",
       "      <td>0.908333</td>\n",
       "      <td>0.908283</td>\n",
       "      <td>9</td>\n",
       "    </tr>\n",
       "    <tr>\n",
       "      <th>4</th>\n",
       "      <td>0.100000</td>\n",
       "      <td>0.100000</td>\n",
       "      <td>0.316228</td>\n",
       "      <td>0.904556</td>\n",
       "      <td>0.900000</td>\n",
       "      <td>0.899632</td>\n",
       "      <td>6</td>\n",
       "    </tr>\n",
       "    <tr>\n",
       "      <th>2</th>\n",
       "      <td>0.108333</td>\n",
       "      <td>0.108333</td>\n",
       "      <td>0.329140</td>\n",
       "      <td>0.893806</td>\n",
       "      <td>0.891667</td>\n",
       "      <td>0.891095</td>\n",
       "      <td>4</td>\n",
       "    </tr>\n",
       "    <tr>\n",
       "      <th>3</th>\n",
       "      <td>0.116667</td>\n",
       "      <td>0.116667</td>\n",
       "      <td>0.341565</td>\n",
       "      <td>0.892007</td>\n",
       "      <td>0.883333</td>\n",
       "      <td>0.882191</td>\n",
       "      <td>5</td>\n",
       "    </tr>\n",
       "    <tr>\n",
       "      <th>0</th>\n",
       "      <td>0.225000</td>\n",
       "      <td>0.225000</td>\n",
       "      <td>0.474342</td>\n",
       "      <td>0.779700</td>\n",
       "      <td>0.775000</td>\n",
       "      <td>0.775533</td>\n",
       "      <td>2</td>\n",
       "    </tr>\n",
       "    <tr>\n",
       "      <th>1</th>\n",
       "      <td>0.366667</td>\n",
       "      <td>0.366667</td>\n",
       "      <td>0.605530</td>\n",
       "      <td>0.636305</td>\n",
       "      <td>0.633333</td>\n",
       "      <td>0.628759</td>\n",
       "      <td>3</td>\n",
       "    </tr>\n",
       "  </tbody>\n",
       "</table>\n",
       "</div>"
      ],
      "text/plain": [
       "        mae       mse      rmse  precision  accuracy  f1-score  folds\n",
       "5  0.075000  0.075000  0.273861   0.927349  0.925000  0.924749      7\n",
       "6  0.075000  0.075000  0.273861   0.927722  0.925000  0.925026      8\n",
       "8  0.075000  0.075000  0.273861   0.928075  0.925000  0.924953     10\n",
       "7  0.091667  0.091667  0.302765   0.912011  0.908333  0.908283      9\n",
       "4  0.100000  0.100000  0.316228   0.904556  0.900000  0.899632      6\n",
       "2  0.108333  0.108333  0.329140   0.893806  0.891667  0.891095      4\n",
       "3  0.116667  0.116667  0.341565   0.892007  0.883333  0.882191      5\n",
       "0  0.225000  0.225000  0.474342   0.779700  0.775000  0.775533      2\n",
       "1  0.366667  0.366667  0.605530   0.636305  0.633333  0.628759      3"
      ]
     },
     "metadata": {},
     "output_type": "display_data"
    },
    {
     "name": "stdout",
     "output_type": "stream",
     "text": [
      "Number of Folds:  7\n"
     ]
    },
    {
     "data": {
      "image/png": "[encoded data removed]",
      "text/plain": [
       "<Figure size 432x288 with 1 Axes>"
      ]
     },
     "metadata": {},
     "output_type": "display_data"
    }
   ],
   "source": [
    "statistical_cols = ['mae','mse','rmse','precision','accuracy','f1-score']\n",
    "cross_validation_list = np.arange(2,11)\n",
    "results = list()\n",
    "for cv in cross_validation_list:\n",
    "    result = compute_SVM_with_Classifier(testX_data=X_train,testY_data=Y_train,scaler=StandardScaler(),cross_validation = cv)  \n",
    "    result.append(cv)\n",
    "    results.append(result)\n",
    "statistical_cols.append('folds')\n",
    "statistics = pd.DataFrame(columns=statistical_cols,data=results)\n",
    "display(statistics.sort_values(by=['mae']))\n",
    "plt.plot(statistics['folds'],statistics['mae'])\n",
    "selected_fold = statistics.sort_values(by=['mae'])['folds'].head(1).values[0]\n",
    "print(\"Number of Folds: \",selected_fold)"
   ]
  },
  {
   "cell_type": "markdown",
   "metadata": {},
   "source": [
    "### 6th Experiment -  Running the SVM function with default parameters and Leave One Group Out cross validation"
   ]
  },
  {
   "cell_type": "code",
   "execution_count": 16,
   "metadata": {},
   "outputs": [
    {
     "data": {
      "text/html": [
       "<div>\n",
       "<style scoped>\n",
       "    .dataframe tbody tr th:only-of-type {\n",
       "        vertical-align: middle;\n",
       "    }\n",
       "\n",
       "    .dataframe tbody tr th {\n",
       "        vertical-align: top;\n",
       "    }\n",
       "\n",
       "    .dataframe thead th {\n",
       "        text-align: right;\n",
       "    }\n",
       "</style>\n",
       "<table border=\"1\" class=\"dataframe\">\n",
       "  <thead>\n",
       "    <tr style=\"text-align: right;\">\n",
       "      <th></th>\n",
       "      <th>mae</th>\n",
       "      <th>mse</th>\n",
       "      <th>rmse</th>\n",
       "      <th>precision</th>\n",
       "      <th>accuracy</th>\n",
       "      <th>f1-score</th>\n",
       "    </tr>\n",
       "  </thead>\n",
       "  <tbody>\n",
       "    <tr>\n",
       "      <th>0</th>\n",
       "      <td>1.0</td>\n",
       "      <td>1.0</td>\n",
       "      <td>1.0</td>\n",
       "      <td>0.0</td>\n",
       "      <td>0.0</td>\n",
       "      <td>0.0</td>\n",
       "    </tr>\n",
       "  </tbody>\n",
       "</table>\n",
       "</div>"
      ],
      "text/plain": [
       "   mae  mse  rmse  precision  accuracy  f1-score\n",
       "0  1.0  1.0   1.0        0.0       0.0       0.0"
      ]
     },
     "metadata": {},
     "output_type": "display_data"
    }
   ],
   "source": [
    "statistical_cols = ['mae','mse','rmse','precision','accuracy','f1-score']\n",
    "results = list()\n",
    "cv = LeaveOneGroupOut()\n",
    "splited = cv.split(X_train,default_data_scenario_groups,groups=default_data_scenario_groups)\n",
    "loo = compute_SVM_with_Classifier(testX_data=X_train,testY_data=Y_train,scaler=StandardScaler(),cross_validation = splited)  \n",
    "results.append(loo)\n",
    "statistics = pd.DataFrame(columns=statistical_cols,data=results)\n",
    "display(statistics.sort_values(by=['mae']))"
   ]
  },
  {
   "cell_type": "markdown",
   "metadata": {},
   "source": [
    "### 7TH Experiment - Compare cross validation methods"
   ]
  },
  {
   "cell_type": "code",
   "execution_count": 17,
   "metadata": {},
   "outputs": [
    {
     "data": {
      "text/html": [
       "<div>\n",
       "<style scoped>\n",
       "    .dataframe tbody tr th:only-of-type {\n",
       "        vertical-align: middle;\n",
       "    }\n",
       "\n",
       "    .dataframe tbody tr th {\n",
       "        vertical-align: top;\n",
       "    }\n",
       "\n",
       "    .dataframe thead th {\n",
       "        text-align: right;\n",
       "    }\n",
       "</style>\n",
       "<table border=\"1\" class=\"dataframe\">\n",
       "  <thead>\n",
       "    <tr style=\"text-align: right;\">\n",
       "      <th></th>\n",
       "      <th>mae</th>\n",
       "      <th>mse</th>\n",
       "      <th>rmse</th>\n",
       "      <th>precision</th>\n",
       "      <th>accuracy</th>\n",
       "      <th>f1-score</th>\n",
       "      <th>method</th>\n",
       "    </tr>\n",
       "  </thead>\n",
       "  <tbody>\n",
       "    <tr>\n",
       "      <th>2</th>\n",
       "      <td>0.075000</td>\n",
       "      <td>0.075000</td>\n",
       "      <td>0.273861</td>\n",
       "      <td>0.927349</td>\n",
       "      <td>0.925000</td>\n",
       "      <td>0.924749</td>\n",
       "      <td>Stratified K-Fold</td>\n",
       "    </tr>\n",
       "    <tr>\n",
       "      <th>1</th>\n",
       "      <td>0.490741</td>\n",
       "      <td>0.490741</td>\n",
       "      <td>0.700529</td>\n",
       "      <td>0.565743</td>\n",
       "      <td>0.509259</td>\n",
       "      <td>0.501415</td>\n",
       "      <td>HoldOut</td>\n",
       "    </tr>\n",
       "    <tr>\n",
       "      <th>0</th>\n",
       "      <td>1.000000</td>\n",
       "      <td>1.000000</td>\n",
       "      <td>1.000000</td>\n",
       "      <td>0.000000</td>\n",
       "      <td>0.000000</td>\n",
       "      <td>0.000000</td>\n",
       "      <td>LOO</td>\n",
       "    </tr>\n",
       "  </tbody>\n",
       "</table>\n",
       "</div>"
      ],
      "text/plain": [
       "        mae       mse      rmse  precision  accuracy  f1-score  \\\n",
       "2  0.075000  0.075000  0.273861   0.927349  0.925000  0.924749   \n",
       "1  0.490741  0.490741  0.700529   0.565743  0.509259  0.501415   \n",
       "0  1.000000  1.000000  1.000000   0.000000  0.000000  0.000000   \n",
       "\n",
       "              method  \n",
       "2  Stratified K-Fold  \n",
       "1            HoldOut  \n",
       "0                LOO  "
      ]
     },
     "metadata": {},
     "output_type": "display_data"
    },
    {
     "name": "stdout",
     "output_type": "stream",
     "text": [
      "Selected cross validation method:  Stratified K-Fold\n"
     ]
    },
    {
     "data": {
      "image/png": "[encoded data removed]",
      "text/plain": [
       "<Figure size 432x288 with 1 Axes>"
      ]
     },
     "metadata": {},
     "output_type": "display_data"
    }
   ],
   "source": [
    "statistical_cols = ['mae','mse','rmse','precision','accuracy','f1-score','method']\n",
    "results = list()\n",
    "X_train_split, X_test_split, y_train_split, y_test_split = train_test_split(X_train,Y_train, test_size = size, random_state = 6,stratify=default_data_scenario_groups)\n",
    "X_train_split = X_train_split.reset_index(drop=True)\n",
    "X_test_split = X_test_split.reset_index(drop=True)\n",
    "y_train_split = y_train_split.reset_index(drop=True)\n",
    "y_test_split = y_test_split.reset_index(drop=True)\n",
    "holdout = compute_SVM_with_Classifier(trainX_data=X_train_split,trainY_data=y_train_split,testX_data=X_test_split,testY_data=y_test_split,scaler=StandardScaler())\n",
    "loo.append('LOO')\n",
    "results.append(loo)\n",
    "holdout.append('HoldOut')\n",
    "results.append(holdout)\n",
    "skfold = compute_SVM_with_Classifier(testX_data=X_train,testY_data=Y_train,scaler=StandardScaler(),cross_validation = selected_fold)\n",
    "skfold.append('Stratified K-Fold')\n",
    "results.append(skfold)\n",
    "statistics = pd.DataFrame(columns=statistical_cols,data=results)\n",
    "display(statistics.sort_values(by=['mae']))\n",
    "plt.plot(statistics['method'],statistics['mae'])\n",
    "selected_method = statistics.sort_values(by=['mae'])['method'].head(1).values[0]\n",
    "print(\"Selected cross validation method: \",selected_method)"
   ]
  },
  {
   "cell_type": "markdown",
   "metadata": {},
   "source": [
    "### 8th Experiment - Running the SVM function with the different C parameter values"
   ]
  },
  {
   "cell_type": "code",
   "execution_count": 18,
   "metadata": {},
   "outputs": [
    {
     "data": {
      "text/html": [
       "<div>\n",
       "<style scoped>\n",
       "    .dataframe tbody tr th:only-of-type {\n",
       "        vertical-align: middle;\n",
       "    }\n",
       "\n",
       "    .dataframe tbody tr th {\n",
       "        vertical-align: top;\n",
       "    }\n",
       "\n",
       "    .dataframe thead th {\n",
       "        text-align: right;\n",
       "    }\n",
       "</style>\n",
       "<table border=\"1\" class=\"dataframe\">\n",
       "  <thead>\n",
       "    <tr style=\"text-align: right;\">\n",
       "      <th></th>\n",
       "      <th>mae</th>\n",
       "      <th>mse</th>\n",
       "      <th>rmse</th>\n",
       "      <th>precision</th>\n",
       "      <th>accuracy</th>\n",
       "      <th>f1-score</th>\n",
       "      <th>C_parameter</th>\n",
       "    </tr>\n",
       "  </thead>\n",
       "  <tbody>\n",
       "    <tr>\n",
       "      <th>3</th>\n",
       "      <td>0.050000</td>\n",
       "      <td>0.050000</td>\n",
       "      <td>0.223607</td>\n",
       "      <td>0.950906</td>\n",
       "      <td>0.950000</td>\n",
       "      <td>0.950226</td>\n",
       "      <td>10.00</td>\n",
       "    </tr>\n",
       "    <tr>\n",
       "      <th>2</th>\n",
       "      <td>0.075000</td>\n",
       "      <td>0.075000</td>\n",
       "      <td>0.273861</td>\n",
       "      <td>0.927349</td>\n",
       "      <td>0.925000</td>\n",
       "      <td>0.924749</td>\n",
       "      <td>1.00</td>\n",
       "    </tr>\n",
       "    <tr>\n",
       "      <th>0</th>\n",
       "      <td>0.108333</td>\n",
       "      <td>0.108333</td>\n",
       "      <td>0.329140</td>\n",
       "      <td>0.896773</td>\n",
       "      <td>0.891667</td>\n",
       "      <td>0.890774</td>\n",
       "      <td>0.25</td>\n",
       "    </tr>\n",
       "    <tr>\n",
       "      <th>4</th>\n",
       "      <td>0.108333</td>\n",
       "      <td>0.108333</td>\n",
       "      <td>0.329140</td>\n",
       "      <td>0.900121</td>\n",
       "      <td>0.891667</td>\n",
       "      <td>0.892480</td>\n",
       "      <td>100.00</td>\n",
       "    </tr>\n",
       "    <tr>\n",
       "      <th>5</th>\n",
       "      <td>0.108333</td>\n",
       "      <td>0.108333</td>\n",
       "      <td>0.329140</td>\n",
       "      <td>0.900121</td>\n",
       "      <td>0.891667</td>\n",
       "      <td>0.892480</td>\n",
       "      <td>1000.00</td>\n",
       "    </tr>\n",
       "    <tr>\n",
       "      <th>1</th>\n",
       "      <td>0.116667</td>\n",
       "      <td>0.116667</td>\n",
       "      <td>0.341565</td>\n",
       "      <td>0.887302</td>\n",
       "      <td>0.883333</td>\n",
       "      <td>0.882641</td>\n",
       "      <td>0.50</td>\n",
       "    </tr>\n",
       "  </tbody>\n",
       "</table>\n",
       "</div>"
      ],
      "text/plain": [
       "        mae       mse      rmse  precision  accuracy  f1-score  C_parameter\n",
       "3  0.050000  0.050000  0.223607   0.950906  0.950000  0.950226        10.00\n",
       "2  0.075000  0.075000  0.273861   0.927349  0.925000  0.924749         1.00\n",
       "0  0.108333  0.108333  0.329140   0.896773  0.891667  0.890774         0.25\n",
       "4  0.108333  0.108333  0.329140   0.900121  0.891667  0.892480       100.00\n",
       "5  0.108333  0.108333  0.329140   0.900121  0.891667  0.892480      1000.00\n",
       "1  0.116667  0.116667  0.341565   0.887302  0.883333  0.882641         0.50"
      ]
     },
     "metadata": {},
     "output_type": "display_data"
    },
    {
     "name": "stdout",
     "output_type": "stream",
     "text": [
      "Selected C Parameter:  10.0\n"
     ]
    },
    {
     "data": {
      "image/png": "[encoded data removed]",
      "text/plain": [
       "<Figure size 432x288 with 1 Axes>"
      ]
     },
     "metadata": {},
     "output_type": "display_data"
    }
   ],
   "source": [
    "statistical_cols =['mae','mse','rmse','precision','accuracy','f1-score','C_parameter']\n",
    "results = list()\n",
    "for c_param in C_parameter_list:\n",
    "    if selected_method == 'LOO':\n",
    "        cv = LeaveOneGroupOut()\n",
    "        splited = cv.split(X_train,Y_train,groups=default_data_scenario_groups)\n",
    "        result = compute_SVM_with_Classifier(testX_data=X_train,testY_data=Y_train,scaler=StandardScaler(),cross_validation = splited,\n",
    "                                           C_parameter = c_param)  \n",
    "    elif selected_method =='Stratified K-Fold':\n",
    "        result = compute_SVM_with_Classifier(testX_data=X_train,testY_data=Y_train,scaler=StandardScaler(),\n",
    "                                             cross_validation = selected_fold, C_parameter = c_param) \n",
    "    else:\n",
    "        result = compute_SVM_with_Classifier(trainX_data=X_train_split,trainY_data=Y_train_split,testX_data=X_test_split,testY_data=Y_test_split,scaler=StandardScaler(),\n",
    "                                            C_parameter = c_param) \n",
    "    result.append(c_param)\n",
    "    results.append(result)\n",
    "statistics = pd.DataFrame(columns=statistical_cols,data=results)\n",
    "display(statistics.sort_values(by=['mae']))\n",
    "plt.plot(statistics['C_parameter'],statistics['mae'])\n",
    "selected_c_parameter = statistics.sort_values(by=['mae'])['C_parameter'].head(1).values[0]\n",
    "print(\"Selected C Parameter: \",selected_c_parameter)"
   ]
  },
  {
   "cell_type": "markdown",
   "metadata": {},
   "source": [
    "### 9th Experiment - Running the SVM function with the different preprocessing methods"
   ]
  },
  {
   "cell_type": "code",
   "execution_count": 19,
   "metadata": {},
   "outputs": [
    {
     "data": {
      "text/html": [
       "<div>\n",
       "<style scoped>\n",
       "    .dataframe tbody tr th:only-of-type {\n",
       "        vertical-align: middle;\n",
       "    }\n",
       "\n",
       "    .dataframe tbody tr th {\n",
       "        vertical-align: top;\n",
       "    }\n",
       "\n",
       "    .dataframe thead th {\n",
       "        text-align: right;\n",
       "    }\n",
       "</style>\n",
       "<table border=\"1\" class=\"dataframe\">\n",
       "  <thead>\n",
       "    <tr style=\"text-align: right;\">\n",
       "      <th></th>\n",
       "      <th>mae</th>\n",
       "      <th>mse</th>\n",
       "      <th>rmse</th>\n",
       "      <th>precision</th>\n",
       "      <th>accuracy</th>\n",
       "      <th>f1-score</th>\n",
       "      <th>preprocessing</th>\n",
       "      <th>preprocessingFunc</th>\n",
       "    </tr>\n",
       "  </thead>\n",
       "  <tbody>\n",
       "    <tr>\n",
       "      <th>2</th>\n",
       "      <td>0.025000</td>\n",
       "      <td>0.025000</td>\n",
       "      <td>0.158114</td>\n",
       "      <td>0.975461</td>\n",
       "      <td>0.975000</td>\n",
       "      <td>0.975115</td>\n",
       "      <td>MaxAbsScaler</td>\n",
       "      <td>MaxAbsScaler(copy=True)</td>\n",
       "    </tr>\n",
       "    <tr>\n",
       "      <th>3</th>\n",
       "      <td>0.025000</td>\n",
       "      <td>0.025000</td>\n",
       "      <td>0.158114</td>\n",
       "      <td>0.975461</td>\n",
       "      <td>0.975000</td>\n",
       "      <td>0.975115</td>\n",
       "      <td>None</td>\n",
       "      <td>None</td>\n",
       "    </tr>\n",
       "    <tr>\n",
       "      <th>1</th>\n",
       "      <td>0.041667</td>\n",
       "      <td>0.041667</td>\n",
       "      <td>0.204124</td>\n",
       "      <td>0.960133</td>\n",
       "      <td>0.958333</td>\n",
       "      <td>0.958663</td>\n",
       "      <td>MinMaxScaler</td>\n",
       "      <td>MinMaxScaler(copy=True, feature_range=(0, 1))</td>\n",
       "    </tr>\n",
       "    <tr>\n",
       "      <th>0</th>\n",
       "      <td>0.075000</td>\n",
       "      <td>0.075000</td>\n",
       "      <td>0.273861</td>\n",
       "      <td>0.927349</td>\n",
       "      <td>0.925000</td>\n",
       "      <td>0.924749</td>\n",
       "      <td>StandardScaler</td>\n",
       "      <td>StandardScaler(copy=True, with_mean=True, with...</td>\n",
       "    </tr>\n",
       "  </tbody>\n",
       "</table>\n",
       "</div>"
      ],
      "text/plain": [
       "        mae       mse      rmse  precision  accuracy  f1-score  \\\n",
       "2  0.025000  0.025000  0.158114   0.975461  0.975000  0.975115   \n",
       "3  0.025000  0.025000  0.158114   0.975461  0.975000  0.975115   \n",
       "1  0.041667  0.041667  0.204124   0.960133  0.958333  0.958663   \n",
       "0  0.075000  0.075000  0.273861   0.927349  0.925000  0.924749   \n",
       "\n",
       "    preprocessing                                  preprocessingFunc  \n",
       "2    MaxAbsScaler                            MaxAbsScaler(copy=True)  \n",
       "3            None                                               None  \n",
       "1    MinMaxScaler      MinMaxScaler(copy=True, feature_range=(0, 1))  \n",
       "0  StandardScaler  StandardScaler(copy=True, with_mean=True, with...  "
      ]
     },
     "metadata": {},
     "output_type": "display_data"
    },
    {
     "name": "stdout",
     "output_type": "stream",
     "text": [
      "Selected Preprocessing:  MaxAbsScaler\n"
     ]
    },
    {
     "data": {
      "image/png": "[encoded data removed]",
      "text/plain": [
       "<Figure size 432x288 with 1 Axes>"
      ]
     },
     "metadata": {},
     "output_type": "display_data"
    }
   ],
   "source": [
    "statistical_cols = ['mae','mse','rmse','precision','accuracy','f1-score','preprocessing','preprocessingFunc']\n",
    "results = list()\n",
    "for preprocess in scaler_list:\n",
    "    if selected_method == 'LOO':\n",
    "        cv = LeaveOneGroupOut()\n",
    "        splited = cv.split(X_train,Y_train,groups=default_data_scenario_groups)\n",
    "        result = compute_SVM_with_Classifier(testX_data=X_train,testY_data=Y_train,scaler=preprocess,cross_validation = splited)  \n",
    "    elif selected_method =='Stratified K-Fold':\n",
    "        result = compute_SVM_with_Classifier(testX_data=X_train,testY_data=Y_train,scaler=preprocess,cross_validation = selected_fold)\n",
    "    else:\n",
    "        result = compute_SVM_with_Classifier(trainX_data=X_train_split,trainY_data=Y_train_split,testX_data=X_test_split,testY_data=Y_test_split,scaler=preprocess)\n",
    "    if(preprocess is None):\n",
    "        regex = 'None'\n",
    "    else:\n",
    "        regex = re.search('(\\w+)\\(',str(preprocess)).group(1)\n",
    "    result.append(regex)\n",
    "    result.append(preprocess)\n",
    "    results.append(result)\n",
    "statistics = pd.DataFrame(columns=statistical_cols,data=results)\n",
    "display(statistics.sort_values(by=['mae']))\n",
    "plt.plot(statistics['preprocessing'],statistics['mae'])\n",
    "selected_preprocessing = statistics.sort_values(by=['mae'])['preprocessing'].head(1).values[0]\n",
    "selected_preprocesssing_func = statistics.sort_values(by=['mae'])['preprocessingFunc'].head(1).values[0]\n",
    "print(\"Selected Preprocessing: \",selected_preprocessing)"
   ]
  },
  {
   "cell_type": "markdown",
   "metadata": {},
   "source": [
    "### 10th Experiment - Running the SVM function with the different kernels"
   ]
  },
  {
   "cell_type": "code",
   "execution_count": 20,
   "metadata": {},
   "outputs": [
    {
     "data": {
      "text/html": [
       "<div>\n",
       "<style scoped>\n",
       "    .dataframe tbody tr th:only-of-type {\n",
       "        vertical-align: middle;\n",
       "    }\n",
       "\n",
       "    .dataframe tbody tr th {\n",
       "        vertical-align: top;\n",
       "    }\n",
       "\n",
       "    .dataframe thead th {\n",
       "        text-align: right;\n",
       "    }\n",
       "</style>\n",
       "<table border=\"1\" class=\"dataframe\">\n",
       "  <thead>\n",
       "    <tr style=\"text-align: right;\">\n",
       "      <th></th>\n",
       "      <th>mae</th>\n",
       "      <th>mse</th>\n",
       "      <th>rmse</th>\n",
       "      <th>precision</th>\n",
       "      <th>accuracy</th>\n",
       "      <th>f1-score</th>\n",
       "      <th>kernel</th>\n",
       "    </tr>\n",
       "  </thead>\n",
       "  <tbody>\n",
       "    <tr>\n",
       "      <th>0</th>\n",
       "      <td>0.025000</td>\n",
       "      <td>0.025000</td>\n",
       "      <td>0.158114</td>\n",
       "      <td>0.975461</td>\n",
       "      <td>0.975000</td>\n",
       "      <td>0.975115</td>\n",
       "      <td>linear</td>\n",
       "    </tr>\n",
       "    <tr>\n",
       "      <th>2</th>\n",
       "      <td>0.075000</td>\n",
       "      <td>0.075000</td>\n",
       "      <td>0.273861</td>\n",
       "      <td>0.927349</td>\n",
       "      <td>0.925000</td>\n",
       "      <td>0.924749</td>\n",
       "      <td>rbf</td>\n",
       "    </tr>\n",
       "    <tr>\n",
       "      <th>3</th>\n",
       "      <td>0.083333</td>\n",
       "      <td>0.083333</td>\n",
       "      <td>0.288675</td>\n",
       "      <td>0.922523</td>\n",
       "      <td>0.916667</td>\n",
       "      <td>0.917836</td>\n",
       "      <td>sigmoid</td>\n",
       "    </tr>\n",
       "    <tr>\n",
       "      <th>1</th>\n",
       "      <td>0.425000</td>\n",
       "      <td>0.425000</td>\n",
       "      <td>0.651920</td>\n",
       "      <td>0.783242</td>\n",
       "      <td>0.575000</td>\n",
       "      <td>0.572005</td>\n",
       "      <td>poly</td>\n",
       "    </tr>\n",
       "  </tbody>\n",
       "</table>\n",
       "</div>"
      ],
      "text/plain": [
       "        mae       mse      rmse  precision  accuracy  f1-score   kernel\n",
       "0  0.025000  0.025000  0.158114   0.975461  0.975000  0.975115   linear\n",
       "2  0.075000  0.075000  0.273861   0.927349  0.925000  0.924749      rbf\n",
       "3  0.083333  0.083333  0.288675   0.922523  0.916667  0.917836  sigmoid\n",
       "1  0.425000  0.425000  0.651920   0.783242  0.575000  0.572005     poly"
      ]
     },
     "metadata": {},
     "output_type": "display_data"
    },
    {
     "name": "stdout",
     "output_type": "stream",
     "text": [
      "Selected Kernel:  linear\n"
     ]
    },
    {
     "data": {
      "image/png": "[encoded data removed]",
      "text/plain": [
       "<Figure size 432x288 with 1 Axes>"
      ]
     },
     "metadata": {},
     "output_type": "display_data"
    }
   ],
   "source": [
    "statistical_cols = ['mae','mse','rmse','precision','accuracy','f1-score','kernel']\n",
    "results = list()\n",
    "for kernel in kernel_list:\n",
    "    if selected_method == 'LOO':\n",
    "        cv = LeaveOneGroupOut()\n",
    "        splited = cv.split(X_train,Y_train,groups=default_data_scenario_groups)\n",
    "        result = compute_SVM_with_Classifier(testX_data=X_train,testY_data=Y_train,scaler=StandardScaler(),cross_validation = splited,\n",
    "                                            kernel_parameter = kernel)  \n",
    "    elif selected_method =='Stratified K-Fold':\n",
    "        result = compute_SVM_with_Classifier(testX_data=X_train,testY_data=Y_train,scaler=StandardScaler(),cross_validation = selected_fold,\n",
    "                                            kernel_parameter = kernel)\n",
    "    else:\n",
    "        result = compute_SVM_with_Classifier(trainX_data=X_train_split,trainY_data=Y_train_split,testX_data=X_test_split,testY_data=Y_test_split,scaler=StandardScaler(),\n",
    "                                            kernel_parameter = kernel)\n",
    "    result.append(kernel)\n",
    "    results.append(result)\n",
    "statistics = pd.DataFrame(columns=statistical_cols,data=results)\n",
    "display(statistics.sort_values(by=['mae']))\n",
    "plt.plot(statistics['kernel'],statistics['mae'])\n",
    "selected_kernel = statistics.sort_values(by=['mae'])['kernel'].head(1).values[0]\n",
    "print(\"Selected Kernel: \",selected_kernel)"
   ]
  },
  {
   "cell_type": "markdown",
   "metadata": {},
   "source": [
    "### 11th Experiment - Running the SVM function with the different gamma metrics"
   ]
  },
  {
   "cell_type": "code",
   "execution_count": 21,
   "metadata": {},
   "outputs": [
    {
     "data": {
      "text/html": [
       "<div>\n",
       "<style scoped>\n",
       "    .dataframe tbody tr th:only-of-type {\n",
       "        vertical-align: middle;\n",
       "    }\n",
       "\n",
       "    .dataframe tbody tr th {\n",
       "        vertical-align: top;\n",
       "    }\n",
       "\n",
       "    .dataframe thead th {\n",
       "        text-align: right;\n",
       "    }\n",
       "</style>\n",
       "<table border=\"1\" class=\"dataframe\">\n",
       "  <thead>\n",
       "    <tr style=\"text-align: right;\">\n",
       "      <th></th>\n",
       "      <th>mae</th>\n",
       "      <th>mse</th>\n",
       "      <th>rmse</th>\n",
       "      <th>precision</th>\n",
       "      <th>accuracy</th>\n",
       "      <th>f1-score</th>\n",
       "      <th>gamma</th>\n",
       "      <th>gammaStr</th>\n",
       "    </tr>\n",
       "  </thead>\n",
       "  <tbody>\n",
       "    <tr>\n",
       "      <th>2</th>\n",
       "      <td>0.075000</td>\n",
       "      <td>0.075000</td>\n",
       "      <td>0.273861</td>\n",
       "      <td>0.927349</td>\n",
       "      <td>0.925000</td>\n",
       "      <td>0.924749</td>\n",
       "      <td>scale</td>\n",
       "      <td>scale</td>\n",
       "    </tr>\n",
       "    <tr>\n",
       "      <th>3</th>\n",
       "      <td>0.075000</td>\n",
       "      <td>0.075000</td>\n",
       "      <td>0.273861</td>\n",
       "      <td>0.927349</td>\n",
       "      <td>0.925000</td>\n",
       "      <td>0.924749</td>\n",
       "      <td>auto</td>\n",
       "      <td>auto</td>\n",
       "    </tr>\n",
       "    <tr>\n",
       "      <th>0</th>\n",
       "      <td>0.433333</td>\n",
       "      <td>0.433333</td>\n",
       "      <td>0.658281</td>\n",
       "      <td>0.679145</td>\n",
       "      <td>0.566667</td>\n",
       "      <td>0.581411</td>\n",
       "      <td>10</td>\n",
       "      <td>10</td>\n",
       "    </tr>\n",
       "    <tr>\n",
       "      <th>1</th>\n",
       "      <td>0.658333</td>\n",
       "      <td>0.658333</td>\n",
       "      <td>0.811377</td>\n",
       "      <td>0.598707</td>\n",
       "      <td>0.341667</td>\n",
       "      <td>0.323386</td>\n",
       "      <td>100</td>\n",
       "      <td>100</td>\n",
       "    </tr>\n",
       "  </tbody>\n",
       "</table>\n",
       "</div>"
      ],
      "text/plain": [
       "        mae       mse      rmse  precision  accuracy  f1-score  gamma gammaStr\n",
       "2  0.075000  0.075000  0.273861   0.927349  0.925000  0.924749  scale    scale\n",
       "3  0.075000  0.075000  0.273861   0.927349  0.925000  0.924749   auto     auto\n",
       "0  0.433333  0.433333  0.658281   0.679145  0.566667  0.581411     10       10\n",
       "1  0.658333  0.658333  0.811377   0.598707  0.341667  0.323386    100      100"
      ]
     },
     "metadata": {},
     "output_type": "display_data"
    },
    {
     "name": "stdout",
     "output_type": "stream",
     "text": [
      "Selected Gamma:  scale\n"
     ]
    },
    {
     "data": {
      "image/png": "[encoded data removed]",
      "text/plain": [
       "<Figure size 432x288 with 1 Axes>"
      ]
     },
     "metadata": {},
     "output_type": "display_data"
    }
   ],
   "source": [
    "statistical_cols = ['mae','mse','rmse','precision','accuracy','f1-score','gamma','gammaStr']\n",
    "results = list()\n",
    "for gamma in gamma_list:\n",
    "    if selected_method == 'LOO':\n",
    "        cv = LeaveOneGroupOut()\n",
    "        splited = cv.split(X_train,Y_train,groups=default_data_scenario_groups)\n",
    "        result = compute_SVM_with_Classifier(testX_data=X_train,testY_data=Y_train,scaler=StandardScaler(),cross_validation = splited,\n",
    "                                            gamma_parameter= gamma)  \n",
    "    elif selected_method =='Stratified K-Fold':\n",
    "        result = compute_SVM_with_Classifier(testX_data=X_train,testY_data=Y_train,scaler=StandardScaler(),cross_validation = selected_fold,\n",
    "                                            gamma_parameter= gamma)\n",
    "    else:\n",
    "        result = compute_SVM_with_Classifier(trainX_data=X_train_split,trainY_data=Y_train_split,testX_data=X_test_split,testY_data=Y_test_split,scaler=StandardScaler(),\n",
    "                                            gamma_parameter= gamma)\n",
    "    result.append(gamma)\n",
    "    result.append(str(gamma))\n",
    "    results.append(result)\n",
    "statistics = pd.DataFrame(columns=statistical_cols,data=results)\n",
    "display(statistics.sort_values(by=['mae']))\n",
    "plt.plot(statistics['gammaStr'],statistics['mae'])\n",
    "selected_gamma_metric = statistics.sort_values(by=['mae'])['gamma'].head(1).values[0]\n",
    "print(\"Selected Gamma: \",selected_gamma_metric)"
   ]
  },
  {
   "cell_type": "markdown",
   "metadata": {},
   "source": [
    "### 12th Experiment:  Running the SVM function with the different weights metrics"
   ]
  },
  {
   "cell_type": "code",
   "execution_count": 22,
   "metadata": {},
   "outputs": [
    {
     "data": {
      "text/html": [
       "<div>\n",
       "<style scoped>\n",
       "    .dataframe tbody tr th:only-of-type {\n",
       "        vertical-align: middle;\n",
       "    }\n",
       "\n",
       "    .dataframe tbody tr th {\n",
       "        vertical-align: top;\n",
       "    }\n",
       "\n",
       "    .dataframe thead th {\n",
       "        text-align: right;\n",
       "    }\n",
       "</style>\n",
       "<table border=\"1\" class=\"dataframe\">\n",
       "  <thead>\n",
       "    <tr style=\"text-align: right;\">\n",
       "      <th></th>\n",
       "      <th>mae</th>\n",
       "      <th>mse</th>\n",
       "      <th>rmse</th>\n",
       "      <th>precision</th>\n",
       "      <th>accuracy</th>\n",
       "      <th>f1-score</th>\n",
       "      <th>class_weights</th>\n",
       "    </tr>\n",
       "  </thead>\n",
       "  <tbody>\n",
       "    <tr>\n",
       "      <th>0</th>\n",
       "      <td>0.075</td>\n",
       "      <td>0.075</td>\n",
       "      <td>0.273861</td>\n",
       "      <td>0.927349</td>\n",
       "      <td>0.925</td>\n",
       "      <td>0.924749</td>\n",
       "      <td>balanced</td>\n",
       "    </tr>\n",
       "    <tr>\n",
       "      <th>1</th>\n",
       "      <td>0.075</td>\n",
       "      <td>0.075</td>\n",
       "      <td>0.273861</td>\n",
       "      <td>0.927349</td>\n",
       "      <td>0.925</td>\n",
       "      <td>0.924749</td>\n",
       "      <td>None</td>\n",
       "    </tr>\n",
       "  </tbody>\n",
       "</table>\n",
       "</div>"
      ],
      "text/plain": [
       "     mae    mse      rmse  precision  accuracy  f1-score class_weights\n",
       "0  0.075  0.075  0.273861   0.927349     0.925  0.924749      balanced\n",
       "1  0.075  0.075  0.273861   0.927349     0.925  0.924749          None"
      ]
     },
     "metadata": {},
     "output_type": "display_data"
    },
    {
     "name": "stdout",
     "output_type": "stream",
     "text": [
      "Selected Weight:  balanced\n"
     ]
    },
    {
     "data": {
      "image/png": "[encoded data removed]",
      "text/plain": [
       "<Figure size 432x288 with 1 Axes>"
      ]
     },
     "metadata": {},
     "output_type": "display_data"
    }
   ],
   "source": [
    "statistical_cols = ['mae','mse','rmse','precision','accuracy','f1-score','class_weights']\n",
    "results = list()\n",
    "for weight in class_weights_list:\n",
    "    if selected_method == 'LOO':\n",
    "        cv = LeaveOneGroupOut()\n",
    "        splited = cv.split(X_train,Y_train,groups=default_data_scenario_groups)\n",
    "        result = compute_SVM_with_Classifier(testX_data=X_train,testY_data=Y_train,scaler=StandardScaler(),cross_validation = splited,\n",
    "                                            class_weigth_parameter= weight)  \n",
    "    elif selected_method =='Stratified K-Fold':\n",
    "        result = compute_SVM_with_Classifier(testX_data=X_train,testY_data=Y_train,scaler=StandardScaler(),cross_validation = selected_fold,\n",
    "                                            class_weigth_parameter= weight)\n",
    "    else:\n",
    "        result = compute_SVM_with_Classifier(trainX_data=X_train_split,trainY_data=Y_train_split,testX_data=X_test_split,testY_data=Y_test_split,scaler=StandardScaler(),\n",
    "                                            class_weigth_parameter= weight)\n",
    "    result.append(str(weight))\n",
    "    results.append(result)\n",
    "statistics = pd.DataFrame(columns=statistical_cols,data=results)\n",
    "display(statistics.sort_values(by=['mae']))\n",
    "plt.plot(statistics['class_weights'],statistics['mae'])\n",
    "selected_weight = statistics.sort_values(by=['mae'])['class_weights'].head(1).values[0]\n",
    "print(\"Selected Weight: \",selected_weight)"
   ]
  },
  {
   "cell_type": "markdown",
   "metadata": {},
   "source": [
    "### 13th Experiment:  Running the SVM function with the different decision function metrics"
   ]
  },
  {
   "cell_type": "code",
   "execution_count": 23,
   "metadata": {},
   "outputs": [
    {
     "data": {
      "text/html": [
       "<div>\n",
       "<style scoped>\n",
       "    .dataframe tbody tr th:only-of-type {\n",
       "        vertical-align: middle;\n",
       "    }\n",
       "\n",
       "    .dataframe tbody tr th {\n",
       "        vertical-align: top;\n",
       "    }\n",
       "\n",
       "    .dataframe thead th {\n",
       "        text-align: right;\n",
       "    }\n",
       "</style>\n",
       "<table border=\"1\" class=\"dataframe\">\n",
       "  <thead>\n",
       "    <tr style=\"text-align: right;\">\n",
       "      <th></th>\n",
       "      <th>mae</th>\n",
       "      <th>mse</th>\n",
       "      <th>rmse</th>\n",
       "      <th>precision</th>\n",
       "      <th>accuracy</th>\n",
       "      <th>f1-score</th>\n",
       "      <th>decision_function</th>\n",
       "    </tr>\n",
       "  </thead>\n",
       "  <tbody>\n",
       "    <tr>\n",
       "      <th>0</th>\n",
       "      <td>0.075</td>\n",
       "      <td>0.075</td>\n",
       "      <td>0.273861</td>\n",
       "      <td>0.927349</td>\n",
       "      <td>0.925</td>\n",
       "      <td>0.924749</td>\n",
       "      <td>ovo</td>\n",
       "    </tr>\n",
       "    <tr>\n",
       "      <th>1</th>\n",
       "      <td>0.075</td>\n",
       "      <td>0.075</td>\n",
       "      <td>0.273861</td>\n",
       "      <td>0.927349</td>\n",
       "      <td>0.925</td>\n",
       "      <td>0.924749</td>\n",
       "      <td>ovr</td>\n",
       "    </tr>\n",
       "  </tbody>\n",
       "</table>\n",
       "</div>"
      ],
      "text/plain": [
       "     mae    mse      rmse  precision  accuracy  f1-score decision_function\n",
       "0  0.075  0.075  0.273861   0.927349     0.925  0.924749               ovo\n",
       "1  0.075  0.075  0.273861   0.927349     0.925  0.924749               ovr"
      ]
     },
     "metadata": {},
     "output_type": "display_data"
    },
    {
     "name": "stdout",
     "output_type": "stream",
     "text": [
      "Selected Decision Function:  ovo\n"
     ]
    },
    {
     "data": {
      "image/png": "[encoded data removed]",
      "text/plain": [
       "<Figure size 432x288 with 1 Axes>"
      ]
     },
     "metadata": {},
     "output_type": "display_data"
    }
   ],
   "source": [
    "statistical_cols = ['mae','mse','rmse','precision','accuracy','f1-score','decision_function']\n",
    "results = list()\n",
    "for decision in decision_function_shape_list:\n",
    "    if selected_method == 'LOO':\n",
    "        cv = LeaveOneGroupOut()\n",
    "        splited = cv.split(X_train,Y_train,groups=default_data_scenario_groups)\n",
    "        result = compute_SVM_with_Classifier(testX_data=X_train,testY_data=Y_train,scaler=StandardScaler(),cross_validation = splited,\n",
    "                                            decision_function_shape_parameter= decision)  \n",
    "    elif selected_method =='Stratified K-Fold':\n",
    "        result = compute_SVM_with_Classifier(testX_data=X_train,testY_data=Y_train,scaler=StandardScaler(),cross_validation = selected_fold,\n",
    "                                            decision_function_shape_parameter= decision)\n",
    "    else:\n",
    "        result = compute_SVM_with_Classifier(trainX_data=X_train_split,trainY_data=Y_train_split,testX_data=X_test_split,testY_data=Y_test_split,scaler=StandardScaler(),\n",
    "                                            decision_function_shape_parameter= decision)\n",
    "    result.append(str(decision))\n",
    "    results.append(result)\n",
    "statistics = pd.DataFrame(columns=statistical_cols,data=results)\n",
    "display(statistics.sort_values(by=['mae']))\n",
    "plt.plot(statistics['decision_function'],statistics['mae'])\n",
    "selected_decision = statistics.sort_values(by=['mae'])['decision_function'].head(1).values[0]\n",
    "print(\"Selected Decision Function: \",selected_decision)"
   ]
  },
  {
   "cell_type": "markdown",
   "metadata": {},
   "source": [
    "### 14th Experiment: Running the KNN function with data filtered "
   ]
  },
  {
   "cell_type": "code",
   "execution_count": 24,
   "metadata": {},
   "outputs": [],
   "source": [
    "def apply_filter():\n",
    "    statistical_cols =  ['mae','mse','rmse','precision','accuracy','f1-score','filter']\n",
    "    results = list()\n",
    "    for filterelement in filters_list:\n",
    "        if filterelement == 'Median':\n",
    "            result = apply_median_filter()\n",
    "        elif filterelement == 'Mean':\n",
    "            result = apply_mean_filter()\n",
    "        else:\n",
    "            result = compute_SVM_with_Classifier(trainX_data=X_train,trainY_data=Y_train,testX_data=X_train,testY_data=Y_train,\n",
    "                                                 scaler=selected_preprocesssing_func,cross_validation = selected_fold,\n",
    "                                                 C_parameter = selected_c_parameter, kernel_parameter=selected_kernel, \n",
    "                                                 gamma_parameter=selected_gamma_metric,  class_weigth_parameter=selected_weight, \n",
    "                                                 decision_function_shape_parameter=selected_decision)\n",
    "            result.append('No Filter')\n",
    "        results.append(result)\n",
    "    statistics = pd.DataFrame(columns=statistical_cols,data=results)\n",
    "    display(statistics.sort_values(by=['mae']))\n",
    "    plt.plot(statistics['filter'],statistics['mae'])\n",
    "    selected_filter = statistics.sort_values(by=['mae'])['filter'].head(1).values[0]\n",
    "    print(\"Selected Filter: \",selected_filter)\n",
    "    return selected_filter\n",
    "            \n",
    "\n",
    "def apply_median_filter():\n",
    "    medians = list()\n",
    "    aps = ['zone']\n",
    "    for col in X_train.columns: \n",
    "         aps.append(col)\n",
    "    for rp, access_points in reference_points:\n",
    "        zone = rp\n",
    "        medians_list = [rp]\n",
    "        for ap in X_train:\n",
    "            median = access_points[ap].median()\n",
    "            medians_list.append(median)\n",
    "        medians.append(medians_list)\n",
    "    median_pd = pd.DataFrame(medians,columns = aps)\n",
    "    x_train = median_pd.iloc[:,1:]\n",
    "    y_train = median_pd.iloc[:,0:1]\n",
    "    nan_filler = x_train.min().min()*1.010\n",
    "    x_train = x_train.fillna(nan_filler)\n",
    "    result = compute_SVM_with_Classifier(trainX_data=x_train,trainY_data=y_train,testX_data=X_train,testY_data=Y_train,\n",
    "                                                 scaler=selected_preprocesssing_func,\n",
    "                                                 C_parameter = selected_c_parameter, kernel_parameter=selected_kernel, \n",
    "                                                 gamma_parameter=selected_gamma_metric,  class_weigth_parameter=selected_weight, \n",
    "                                                 decision_function_shape_parameter=selected_decision)\n",
    "    result.append('Median')\n",
    "    return result\n",
    "\n",
    "def apply_mean_filter(): \n",
    "    means = list()\n",
    "    aps = ['zone']\n",
    "    for col in X_train.columns: \n",
    "         aps.append(col)\n",
    "    for rp, access_points in reference_points:\n",
    "        zone = rp\n",
    "        means_list = [zone]\n",
    "        for ap in X_train:\n",
    "            mean = access_points[ap].mean()\n",
    "            means_list.append(mean)\n",
    "        means.append(means_list)\n",
    "    mean_pd = pd.DataFrame(means,columns = aps)\n",
    "    x_train = mean_pd.iloc[:,1:]\n",
    "    y_train = mean_pd.iloc[:,0:1]\n",
    "    nan_filler = X_train.min().min()*1.010\n",
    "    x_train = x_train.fillna(nan_filler)\n",
    "    result = compute_SVM_with_Classifier(trainX_data=x_train,trainY_data=y_train,testX_data=X_train,testY_data=Y_train,\n",
    "                                                 scaler=selected_preprocesssing_func,\n",
    "                                                 C_parameter = selected_c_parameter, kernel_parameter=selected_kernel, \n",
    "                                                 gamma_parameter=selected_gamma_metric,  class_weigth_parameter=selected_weight, \n",
    "                                                 decision_function_shape_parameter=selected_decision)\n",
    "    result.append('Mean')\n",
    "    return result"
   ]
  },
  {
   "cell_type": "code",
   "execution_count": 25,
   "metadata": {},
   "outputs": [
    {
     "name": "stderr",
     "output_type": "stream",
     "text": [
      "D:\\Programs\\Anaconda\\lib\\site-packages\\sklearn\\metrics\\_classification.py:1272: UndefinedMetricWarning: Precision and F-score are ill-defined and being set to 0.0 in labels with no predicted samples. Use `zero_division` parameter to control this behavior.\n",
      "  _warn_prf(average, modifier, msg_start, len(result))\n",
      "D:\\Programs\\Anaconda\\lib\\site-packages\\sklearn\\metrics\\_classification.py:1272: UndefinedMetricWarning: Precision and F-score are ill-defined and being set to 0.0 in labels with no predicted samples. Use `zero_division` parameter to control this behavior.\n",
      "  _warn_prf(average, modifier, msg_start, len(result))\n"
     ]
    },
    {
     "data": {
      "text/html": [
       "<div>\n",
       "<style scoped>\n",
       "    .dataframe tbody tr th:only-of-type {\n",
       "        vertical-align: middle;\n",
       "    }\n",
       "\n",
       "    .dataframe tbody tr th {\n",
       "        vertical-align: top;\n",
       "    }\n",
       "\n",
       "    .dataframe thead th {\n",
       "        text-align: right;\n",
       "    }\n",
       "</style>\n",
       "<table border=\"1\" class=\"dataframe\">\n",
       "  <thead>\n",
       "    <tr style=\"text-align: right;\">\n",
       "      <th></th>\n",
       "      <th>mae</th>\n",
       "      <th>mse</th>\n",
       "      <th>rmse</th>\n",
       "      <th>precision</th>\n",
       "      <th>accuracy</th>\n",
       "      <th>f1-score</th>\n",
       "      <th>filter</th>\n",
       "    </tr>\n",
       "  </thead>\n",
       "  <tbody>\n",
       "    <tr>\n",
       "      <th>2</th>\n",
       "      <td>0.016667</td>\n",
       "      <td>0.016667</td>\n",
       "      <td>0.129099</td>\n",
       "      <td>0.983564</td>\n",
       "      <td>0.983333</td>\n",
       "      <td>0.983331</td>\n",
       "      <td>No Filter</td>\n",
       "    </tr>\n",
       "    <tr>\n",
       "      <th>0</th>\n",
       "      <td>0.508333</td>\n",
       "      <td>0.508333</td>\n",
       "      <td>0.712975</td>\n",
       "      <td>0.290520</td>\n",
       "      <td>0.491667</td>\n",
       "      <td>0.356475</td>\n",
       "      <td>Median</td>\n",
       "    </tr>\n",
       "    <tr>\n",
       "      <th>1</th>\n",
       "      <td>0.750000</td>\n",
       "      <td>0.750000</td>\n",
       "      <td>0.866025</td>\n",
       "      <td>0.089286</td>\n",
       "      <td>0.250000</td>\n",
       "      <td>0.121429</td>\n",
       "      <td>Mean</td>\n",
       "    </tr>\n",
       "  </tbody>\n",
       "</table>\n",
       "</div>"
      ],
      "text/plain": [
       "        mae       mse      rmse  precision  accuracy  f1-score     filter\n",
       "2  0.016667  0.016667  0.129099   0.983564  0.983333  0.983331  No Filter\n",
       "0  0.508333  0.508333  0.712975   0.290520  0.491667  0.356475     Median\n",
       "1  0.750000  0.750000  0.866025   0.089286  0.250000  0.121429       Mean"
      ]
     },
     "metadata": {},
     "output_type": "display_data"
    },
    {
     "name": "stdout",
     "output_type": "stream",
     "text": [
      "Selected Filter:  No Filter\n"
     ]
    },
    {
     "data": {
      "image/png": "[encoded data removed]",
      "text/plain": [
       "<Figure size 432x288 with 1 Axes>"
      ]
     },
     "metadata": {},
     "output_type": "display_data"
    }
   ],
   "source": [
    "selected_filter = apply_filter()"
   ]
  },
  {
   "cell_type": "markdown",
   "metadata": {},
   "source": [
    "# Results Analysis and Conclusion\n",
    "Analysis of the outcomes of the different experiments and final conclusions."
   ]
  },
  {
   "cell_type": "code",
   "execution_count": 26,
   "metadata": {},
   "outputs": [
    {
     "data": {
      "text/html": [
       "<div>\n",
       "<style scoped>\n",
       "    .dataframe tbody tr th:only-of-type {\n",
       "        vertical-align: middle;\n",
       "    }\n",
       "\n",
       "    .dataframe tbody tr th {\n",
       "        vertical-align: top;\n",
       "    }\n",
       "\n",
       "    .dataframe thead th {\n",
       "        text-align: right;\n",
       "    }\n",
       "</style>\n",
       "<table border=\"1\" class=\"dataframe\">\n",
       "  <thead>\n",
       "    <tr style=\"text-align: right;\">\n",
       "      <th></th>\n",
       "      <th>C Parameter</th>\n",
       "      <th>Cross Validation</th>\n",
       "      <th>Kernel</th>\n",
       "      <th>Preprocessing</th>\n",
       "      <th>Gamma</th>\n",
       "      <th>Class Weights</th>\n",
       "      <th>Decision Function</th>\n",
       "      <th>Filtering</th>\n",
       "    </tr>\n",
       "  </thead>\n",
       "  <tbody>\n",
       "    <tr>\n",
       "      <th>0</th>\n",
       "      <td>10.0</td>\n",
       "      <td>Stratified K-Fold</td>\n",
       "      <td>linear</td>\n",
       "      <td>MaxAbsScaler</td>\n",
       "      <td>scale</td>\n",
       "      <td>balanced</td>\n",
       "      <td>ovo</td>\n",
       "      <td>No Filter</td>\n",
       "    </tr>\n",
       "  </tbody>\n",
       "</table>\n",
       "</div>"
      ],
      "text/plain": [
       "   C Parameter   Cross Validation  Kernel Preprocessing  Gamma Class Weights  \\\n",
       "0         10.0  Stratified K-Fold  linear  MaxAbsScaler  scale      balanced   \n",
       "\n",
       "  Decision Function  Filtering  \n",
       "0               ovo  No Filter  "
      ]
     },
     "metadata": {},
     "output_type": "display_data"
    }
   ],
   "source": [
    "conclusion_cols=['C Parameter','Cross Validation','Kernel','Preprocessing','Gamma','Class Weights','Decision Function','Filtering']\n",
    "conclusion_list = [selected_c_parameter,selected_method,selected_kernel,selected_preprocessing,selected_gamma_metric,selected_weight,\n",
    "                  selected_decision,selected_filter]\n",
    "conclusion_pd = pd.DataFrame([conclusion_list],columns= conclusion_cols)\n",
    "display(conclusion_pd)\n",
    "statistical_cols_csv = conclusion_cols\n",
    "statistical_cols_csv.append('Experimentation')\n",
    "result_csv = conclusion_list\n",
    "result_csv.append('SVM Classifier Wifi')\n",
    "results_csv = [result_csv]\n",
    "results_df = pd.DataFrame(columns=statistical_cols_csv,data=results_csv)\n",
    "results_df.to_csv('../parameters_svm_results.csv',mode='a',index=False,header=False)"
   ]
  },
  {
   "cell_type": "markdown",
   "metadata": {},
   "source": [
    "### Best Result"
   ]
  },
  {
   "cell_type": "code",
   "execution_count": 27,
   "metadata": {},
   "outputs": [
    {
     "name": "stdout",
     "output_type": "stream",
     "text": [
      "Confusion Matrix:\n",
      "[[29  0  1  0]\n",
      " [ 0 30  0  0]\n",
      " [ 0  0 30  0]\n",
      " [ 1  0  0 29]]\n"
     ]
    },
    {
     "data": {
      "text/html": [
       "<div>\n",
       "<style scoped>\n",
       "    .dataframe tbody tr th:only-of-type {\n",
       "        vertical-align: middle;\n",
       "    }\n",
       "\n",
       "    .dataframe tbody tr th {\n",
       "        vertical-align: top;\n",
       "    }\n",
       "\n",
       "    .dataframe thead th {\n",
       "        text-align: right;\n",
       "    }\n",
       "</style>\n",
       "<table border=\"1\" class=\"dataframe\">\n",
       "  <thead>\n",
       "    <tr style=\"text-align: right;\">\n",
       "      <th></th>\n",
       "      <th>precision</th>\n",
       "      <th>recall</th>\n",
       "      <th>f1-score</th>\n",
       "      <th>support</th>\n",
       "    </tr>\n",
       "  </thead>\n",
       "  <tbody>\n",
       "    <tr>\n",
       "      <th>Bathroom</th>\n",
       "      <td>0.966667</td>\n",
       "      <td>0.966667</td>\n",
       "      <td>0.966667</td>\n",
       "      <td>30.000000</td>\n",
       "    </tr>\n",
       "    <tr>\n",
       "      <th>Bedroom</th>\n",
       "      <td>1.000000</td>\n",
       "      <td>1.000000</td>\n",
       "      <td>1.000000</td>\n",
       "      <td>30.000000</td>\n",
       "    </tr>\n",
       "    <tr>\n",
       "      <th>Kitchen</th>\n",
       "      <td>0.967742</td>\n",
       "      <td>1.000000</td>\n",
       "      <td>0.983607</td>\n",
       "      <td>30.000000</td>\n",
       "    </tr>\n",
       "    <tr>\n",
       "      <th>Living Room</th>\n",
       "      <td>1.000000</td>\n",
       "      <td>0.966667</td>\n",
       "      <td>0.983051</td>\n",
       "      <td>30.000000</td>\n",
       "    </tr>\n",
       "    <tr>\n",
       "      <th>accuracy</th>\n",
       "      <td>0.983333</td>\n",
       "      <td>0.983333</td>\n",
       "      <td>0.983333</td>\n",
       "      <td>0.983333</td>\n",
       "    </tr>\n",
       "    <tr>\n",
       "      <th>macro avg</th>\n",
       "      <td>0.983602</td>\n",
       "      <td>0.983333</td>\n",
       "      <td>0.983331</td>\n",
       "      <td>120.000000</td>\n",
       "    </tr>\n",
       "    <tr>\n",
       "      <th>weighted avg</th>\n",
       "      <td>0.983602</td>\n",
       "      <td>0.983333</td>\n",
       "      <td>0.983331</td>\n",
       "      <td>120.000000</td>\n",
       "    </tr>\n",
       "  </tbody>\n",
       "</table>\n",
       "</div>"
      ],
      "text/plain": [
       "              precision    recall  f1-score     support\n",
       "Bathroom       0.966667  0.966667  0.966667   30.000000\n",
       "Bedroom        1.000000  1.000000  1.000000   30.000000\n",
       "Kitchen        0.967742  1.000000  0.983607   30.000000\n",
       "Living Room    1.000000  0.966667  0.983051   30.000000\n",
       "accuracy       0.983333  0.983333  0.983333    0.983333\n",
       "macro avg      0.983602  0.983333  0.983331  120.000000\n",
       "weighted avg   0.983602  0.983333  0.983331  120.000000"
      ]
     },
     "metadata": {},
     "output_type": "display_data"
    },
    {
     "data": {
      "text/html": [
       "<div>\n",
       "<style scoped>\n",
       "    .dataframe tbody tr th:only-of-type {\n",
       "        vertical-align: middle;\n",
       "    }\n",
       "\n",
       "    .dataframe tbody tr th {\n",
       "        vertical-align: top;\n",
       "    }\n",
       "\n",
       "    .dataframe thead th {\n",
       "        text-align: right;\n",
       "    }\n",
       "</style>\n",
       "<table border=\"1\" class=\"dataframe\">\n",
       "  <thead>\n",
       "    <tr style=\"text-align: right;\">\n",
       "      <th></th>\n",
       "      <th>zone</th>\n",
       "      <th>zone_predicted</th>\n",
       "      <th>error</th>\n",
       "    </tr>\n",
       "  </thead>\n",
       "  <tbody>\n",
       "    <tr>\n",
       "      <th>0</th>\n",
       "      <td>Kitchen</td>\n",
       "      <td>Kitchen</td>\n",
       "      <td>0</td>\n",
       "    </tr>\n",
       "    <tr>\n",
       "      <th>1</th>\n",
       "      <td>Kitchen</td>\n",
       "      <td>Kitchen</td>\n",
       "      <td>0</td>\n",
       "    </tr>\n",
       "    <tr>\n",
       "      <th>2</th>\n",
       "      <td>Kitchen</td>\n",
       "      <td>Kitchen</td>\n",
       "      <td>0</td>\n",
       "    </tr>\n",
       "    <tr>\n",
       "      <th>3</th>\n",
       "      <td>Kitchen</td>\n",
       "      <td>Kitchen</td>\n",
       "      <td>0</td>\n",
       "    </tr>\n",
       "    <tr>\n",
       "      <th>4</th>\n",
       "      <td>Kitchen</td>\n",
       "      <td>Kitchen</td>\n",
       "      <td>0</td>\n",
       "    </tr>\n",
       "    <tr>\n",
       "      <th>...</th>\n",
       "      <td>...</td>\n",
       "      <td>...</td>\n",
       "      <td>...</td>\n",
       "    </tr>\n",
       "    <tr>\n",
       "      <th>115</th>\n",
       "      <td>Bathroom</td>\n",
       "      <td>Bathroom</td>\n",
       "      <td>0</td>\n",
       "    </tr>\n",
       "    <tr>\n",
       "      <th>116</th>\n",
       "      <td>Bathroom</td>\n",
       "      <td>Bathroom</td>\n",
       "      <td>0</td>\n",
       "    </tr>\n",
       "    <tr>\n",
       "      <th>117</th>\n",
       "      <td>Bathroom</td>\n",
       "      <td>Bathroom</td>\n",
       "      <td>0</td>\n",
       "    </tr>\n",
       "    <tr>\n",
       "      <th>118</th>\n",
       "      <td>Bathroom</td>\n",
       "      <td>Bathroom</td>\n",
       "      <td>0</td>\n",
       "    </tr>\n",
       "    <tr>\n",
       "      <th>119</th>\n",
       "      <td>Bathroom</td>\n",
       "      <td>Bathroom</td>\n",
       "      <td>0</td>\n",
       "    </tr>\n",
       "  </tbody>\n",
       "</table>\n",
       "<p>120 rows × 3 columns</p>\n",
       "</div>"
      ],
      "text/plain": [
       "         zone zone_predicted  error\n",
       "0     Kitchen        Kitchen      0\n",
       "1     Kitchen        Kitchen      0\n",
       "2     Kitchen        Kitchen      0\n",
       "3     Kitchen        Kitchen      0\n",
       "4     Kitchen        Kitchen      0\n",
       "..        ...            ...    ...\n",
       "115  Bathroom       Bathroom      0\n",
       "116  Bathroom       Bathroom      0\n",
       "117  Bathroom       Bathroom      0\n",
       "118  Bathroom       Bathroom      0\n",
       "119  Bathroom       Bathroom      0\n",
       "\n",
       "[120 rows x 3 columns]"
      ]
     },
     "metadata": {},
     "output_type": "display_data"
    },
    {
     "data": {
      "text/html": [
       "<div>\n",
       "<style scoped>\n",
       "    .dataframe tbody tr th:only-of-type {\n",
       "        vertical-align: middle;\n",
       "    }\n",
       "\n",
       "    .dataframe tbody tr th {\n",
       "        vertical-align: top;\n",
       "    }\n",
       "\n",
       "    .dataframe thead th {\n",
       "        text-align: right;\n",
       "    }\n",
       "</style>\n",
       "<table border=\"1\" class=\"dataframe\">\n",
       "  <thead>\n",
       "    <tr style=\"text-align: right;\">\n",
       "      <th></th>\n",
       "      <th>mae</th>\n",
       "      <th>mse</th>\n",
       "      <th>rmse</th>\n",
       "      <th>precision</th>\n",
       "      <th>accuracy</th>\n",
       "      <th>f1-score</th>\n",
       "    </tr>\n",
       "  </thead>\n",
       "  <tbody>\n",
       "    <tr>\n",
       "      <th>0</th>\n",
       "      <td>0.016667</td>\n",
       "      <td>0.016667</td>\n",
       "      <td>0.129099</td>\n",
       "      <td>0.983564</td>\n",
       "      <td>0.983333</td>\n",
       "      <td>0.983331</td>\n",
       "    </tr>\n",
       "  </tbody>\n",
       "</table>\n",
       "</div>"
      ],
      "text/plain": [
       "        mae       mse      rmse  precision  accuracy  f1-score\n",
       "0  0.016667  0.016667  0.129099   0.983564  0.983333  0.983331"
      ]
     },
     "metadata": {},
     "output_type": "display_data"
    }
   ],
   "source": [
    "statistical_cols = ['mae','mse','rmse','precision','accuracy','f1-score']\n",
    "if selected_method == 'LOO':\n",
    "    cv = LeaveOneGroupOut()\n",
    "    splited = cv.split(X_train,Y_train,groups=default_data_scenario_groups)\n",
    "    result = compute_SVM_with_Classifier(flag= 0,trainX_data=X_train,trainY_data=Y_train,testX_data=X_train,testY_data=Y_train,\n",
    "                                                 scaler=selected_preprocesssing_func,cross_validation = splited,\n",
    "                                                 C_parameter = selected_c_parameter, kernel_parameter=selected_kernel, \n",
    "                                                 gamma_parameter=selected_gamma_metric,  class_weigth_parameter=selected_weight, \n",
    "                                                 decision_function_shape_parameter=selected_decision)\n",
    "elif selected_method =='Stratified K-Fold':\n",
    "    result = compute_SVM_with_Classifier(flag= 0,trainX_data=X_train,trainY_data=Y_train,testX_data=X_train,testY_data=Y_train,\n",
    "                                                 scaler=selected_preprocesssing_func,cross_validation = selected_fold,\n",
    "                                                 C_parameter = selected_c_parameter, kernel_parameter=selected_kernel, \n",
    "                                                 gamma_parameter=selected_gamma_metric,  class_weigth_parameter=selected_weight, \n",
    "                                                 decision_function_shape_parameter=selected_decision) \n",
    "else:\n",
    "    result = compute_SVM_with_Classifier(flag= 0,trainX_data=X_train_split,trainY_data=Y_train_split,testX_data=X_test_split,testY_data=Y_test_split,\n",
    "                                                 scaler=selected_preprocesssing_func,\n",
    "                                                 C_parameter = selected_c_parameter, kernel_parameter=selected_kernel, \n",
    "                                                 gamma_parameter=selected_gamma_metric,  class_weigth_parameter=selected_weight, \n",
    "                                                 decision_function_shape_parameter=selected_decision)\n",
    "results = [result]\n",
    "statistics = pd.DataFrame(columns=statistical_cols,data=results)\n",
    "display(statistics.sort_values(by=['mae']))\n",
    "statistical_cols_csv = ['mae','mse','rmse']\n",
    "statistical_cols_csv.append('Experimentation')\n",
    "result_csv = result[0:3]\n",
    "result_csv.append('SVM Classifier Wifi')\n",
    "results_csv = [result_csv]\n",
    "results_df = pd.DataFrame(columns=statistical_cols_csv,data=results_csv)\n",
    "results_df.to_csv('../tests_results.csv',mode='a',index=False,header=False)"
   ]
  }
 ],
 "metadata": {
  "kernelspec": {
   "display_name": "Python 3",
   "language": "python",
   "name": "python3"
  },
  "language_info": {
   "codemirror_mode": {
    "name": "ipython",
    "version": 3
   },
   "file_extension": ".py",
   "mimetype": "text/x-python",
   "name": "python",
   "nbconvert_exporter": "python",
   "pygments_lexer": "ipython3",
   "version": "3.7.6"
  }
 },
 "nbformat": 4,
 "nbformat_minor": 4
}
